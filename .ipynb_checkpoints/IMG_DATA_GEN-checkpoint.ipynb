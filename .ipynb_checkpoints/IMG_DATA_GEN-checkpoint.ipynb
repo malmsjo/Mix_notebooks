{
 "cells": [
  {
   "cell_type": "code",
   "execution_count": 1,
   "metadata": {},
   "outputs": [
    {
     "name": "stderr",
     "output_type": "stream",
     "text": [
      "Using TensorFlow backend.\n"
     ]
    }
   ],
   "source": [
    "import tensorflow as tf\n",
    "from tensorflow import keras\n",
    "from tensorflow.keras.models import Sequential\n",
    "from tensorflow.keras.layers import Dropout\n",
    "from tensorflow.keras.models import Model\n",
    "from tensorflow.keras.layers import Input\n",
    "from tensorflow.keras.layers import Dense\n",
    "from tensorflow.keras.layers import Activation\n",
    "from tensorflow.keras.layers import Flatten, LSTM\n",
    "from tensorflow.keras.layers import Dropout\n",
    "from tensorflow.keras.layers import Conv2D, Conv3D\n",
    "from tensorflow.keras.layers import MaxPooling2D\n",
    "from tensorflow.keras.layers import GlobalAveragePooling2D\n",
    "from tensorflow.keras.layers import BatchNormalization\n",
    "from tensorflow.keras.applications.vgg16 import VGG16\n",
    "from tensorflow.keras.optimizers import Adam\n",
    "from tensorflow.keras import regularizers\n",
    "from tensorflow.keras.losses import categorical_crossentropy\n",
    "from tensorflow.keras.losses import binary_crossentropy\n",
    "from sklearn.metrics import f1_score\n",
    "from keras.wrappers.scikit_learn import KerasClassifier\n",
    "from sklearn.model_selection import cross_val_score\n",
    "from tensorflow.keras.applications.vgg16 import preprocess_input\n",
    "from tensorflow.keras import backend as K\n",
    "from keras.callbacks import EarlyStopping\n",
    "from keras.preprocessing.image import ImageDataGenerator\n",
    "from sklearn.model_selection import train_test_split\n",
    "import numpy as np\n",
    "import matplotlib.pyplot as plt\n",
    "import pandas as pd\n",
    "from PIL import Image \n",
    "import seaborn as sns\n",
    "import os\n",
    "import re\n",
    "import glob\n",
    "import cv2\n",
    "from sklearn.metrics import classification_report\n",
    "from sklearn.metrics import confusion_matrix\n",
    "from sklearn.utils.multiclass import unique_labels\n",
    "from sklearn.model_selection import StratifiedKFold\n",
    "from sklearn import preprocessing\n",
    "import tqdm\n",
    "from numpy import loadtxt\n",
    "from os import *\n",
    "from sklearn.utils import class_weight\n",
    "import shutil"
   ]
  },
  {
   "cell_type": "code",
   "execution_count": 2,
   "metadata": {},
   "outputs": [],
   "source": [
    "def atoi(text):\n",
    "    return int(text) if text.isdigit() else text\n",
    "def natural_keys(text):\n",
    "    return [atoi(c) for c in re.split('(\\d+)', text)]"
   ]
  },
  {
   "cell_type": "code",
   "execution_count": 3,
   "metadata": {},
   "outputs": [],
   "source": [
    "met = ['F10']\n",
    "mid = ['D5']\n",
    "oxy = ['F6']\n",
    "\n",
    "\n",
    "\n",
    "\n",
    "cycl = ['C4']\n",
    "dime =  ['F7']\n",
    "cypr  = ['G9']\n"
   ]
  },
  {
   "cell_type": "code",
   "execution_count": null,
   "metadata": {},
   "outputs": [],
   "source": [
    "tot_well_adr = [met,mid,oxy]\n",
    "\n",
    "tot_well_hrh = [cycl, dime, cypr]\n",
    "\n",
    "string_well_adr = ['met', 'mid', 'oxy']\n",
    "\n",
    "string_well_hrh = ['cycl', 'dime', 'cypr']\n"
   ]
  },
  {
   "cell_type": "code",
   "execution_count": null,
   "metadata": {},
   "outputs": [],
   "source": [
    "tot_well = []\n",
    "string_well = [] "
   ]
  },
  {
   "cell_type": "code",
   "execution_count": null,
   "metadata": {},
   "outputs": [],
   "source": [
    "a = 'ADR' # FOR TEST SET\n",
    "b = 'HRH' # FOR REST\n",
    "c = 'DMSO'\n",
    "\n",
    "if a == 'HRH':\n",
    "    tot_well = tot_well_hrh\n",
    "    string_well = string_well_hrh\n",
    "    \n",
    "if a == 'ADR':\n",
    "    tot_well = tot_well_adr\n",
    "    string_well = string_well_adr"
   ]
  },
  {
   "cell_type": "code",
   "execution_count": null,
   "metadata": {},
   "outputs": [],
   "source": [
    "tot_results_accuracy = []\n",
    "\n",
    "results_lstm = []"
   ]
  },
  {
   "cell_type": "code",
   "execution_count": null,
   "metadata": {},
   "outputs": [],
   "source": [
    "time_points = list(map(str, range(1,34)))\n",
    "\n",
    "new_time = []\n",
    "for i in time_points:\n",
    "    r = '_' + i + '.'\n",
    "    new_time.append(r)\n",
    "\n",
    "\n",
    "\n",
    "path_test = '/home/jovyan/DATA_MASTER_PROJECT/IMG_A549_high_con/{}_tile/'.format(a)\n",
    "\n",
    "# NAME OF THE WELLS CORRESPONDING TO THE DRUG THAT YOU WANT IN THE TEST SET \n",
    "\n",
    "wells_drug = [tot_well[0][0]] \n",
    "\n",
    "test = []\n",
    "\n",
    "for _,_, filenames in os.walk(path_test):\n",
    "\n",
    "    for filename in sorted(filenames, key = natural_keys):\n",
    "\n",
    "        for w in wells_drug:\n",
    "            for t in new_time:\n",
    "                if '{}'.format(w) in filename and '{}tiff'.format(t) in filename:\n",
    "                    test.append(filename)\n",
    "\n",
    "groups_list = ['{}'.format(a), '{}'.format(b), '{}'.format(c)]\n",
    "\n",
    "fileds_of_view = ['1','2','3','4','5']\n",
    "\n",
    "field_train, field_val = train_test_split(fileds_of_view, test_size=0.4, random_state=5)\n",
    "\n",
    "\n",
    "train = []\n",
    "\n",
    "validation = []\n",
    "\n",
    "group_compounds = []\n",
    "\n",
    "for group in tqdm.tqdm(groups_list):\n",
    "\n",
    "    pa = '/home/jovyan/DATA_MASTER_PROJECT/IMG_A549_high_con/{}_tile/'.format(group)\n",
    "\n",
    "    for _,_, filenames in os.walk(pa):\n",
    "\n",
    "        for filename in sorted(filenames, key = natural_keys):\n",
    "\n",
    "            for t in new_time:\n",
    "\n",
    "                if '_{}-'.format(wells_drug[0]) not in filename  and '{}tiff'.format(t) in filename:\n",
    "\n",
    "                    group_compounds.append(filename)\n",
    "\n",
    "\n",
    "\n",
    "\n",
    "\n",
    "\n",
    "for i in group_compounds:\n",
    "\n",
    "    for f in field_train:\n",
    "        if '-{}_'.format(f) in i:\n",
    "            train.append(i)\n",
    "\n",
    "\n",
    "    for v in field_val:\n",
    "        if '-{}_'.format(v) in i:\n",
    "            validation.append(i)\n"
   ]
  },
  {
   "cell_type": "code",
   "execution_count": null,
   "metadata": {},
   "outputs": [],
   "source": [
    "def copy_to_dir(data):\n",
    "    p = '/home/jovyan/DATA_MASTER_PROJECT/IMG_A549_high_con/'\n",
    "    \n",
    "    if data == test: \n",
    "        p_data = 'Test'\n",
    "        \n",
    "    if data == train: \n",
    "        p_data = 'Train'\n",
    "        \n",
    "    if data == validation: \n",
    "        p_data = 'Validation'\n",
    "\n",
    "    new_path_adr = '/home/jovyan/DATA_MASTER_PROJECT/IMG_A549_high_con/DATA_SETS/{0}/ADR/'.format(p_data)  \n",
    "    new_path_hrh = '/home/jovyan/DATA_MASTER_PROJECT/IMG_A549_high_con/DATA_SETS/{0}/HRH/'.format(p_data)   \n",
    "    new_path_dmso = '/home/jovyan/DATA_MASTER_PROJECT/IMG_A549_high_con/DATA_SETS/{0}/DMSO/'.format(p_data)   \n",
    "\n",
    "\n",
    "    pa_adr = p + 'ADR_tile/'\n",
    "    pa_hrh = p + 'HRH_tile/'\n",
    "    pa_dmso = p + 'DMSO_tile/'\n",
    "\n",
    "\n",
    "    for i in tqdm.tqdm(data):\n",
    "        \n",
    "        if 'adr' in i:\n",
    "            shutil.copy(pa_adr + i, new_path_adr + i)\n",
    "            \n",
    "        if 'hrh' in i:\n",
    "            shutil.copy(pa_hrh + i, new_path_hrh + i)\n",
    "            \n",
    "        if 'dmso' in i:\n",
    "            shutil.copy(pa_dmso + i, new_path_dmso + i)\n",
    "\n",
    "    \n",
    "    return 'Done'\n"
   ]
  },
  {
   "cell_type": "code",
   "execution_count": null,
   "metadata": {},
   "outputs": [],
   "source": [
    "len(train), len(validation), len(test)"
   ]
  },
  {
   "cell_type": "code",
   "execution_count": null,
   "metadata": {},
   "outputs": [],
   "source": [
    "copy_to_dir(test)\n",
    "copy_to_dir(train)\n",
    "copy_to_dir(validation)"
   ]
  },
  {
   "cell_type": "code",
   "execution_count": 4,
   "metadata": {},
   "outputs": [],
   "source": [
    "datagen = ImageDataGenerator(preprocessing_function=preprocess_input)"
   ]
  },
  {
   "cell_type": "code",
   "execution_count": 5,
   "metadata": {},
   "outputs": [
    {
     "name": "stderr",
     "output_type": "stream",
     "text": [
      "/usr/local/lib/python3.6/dist-packages/keras_preprocessing/image/utils.py:173: UserWarning: Using \".tiff\" files with multiple bands will cause distortion. Please verify your output.\n",
      "  warnings.warn('Using \".tiff\" files with multiple bands '\n"
     ]
    },
    {
     "name": "stdout",
     "output_type": "stream",
     "text": [
      "Found 74448 images belonging to 3 classes.\n",
      "Found 49632 images belonging to 3 classes.\n",
      "Found 2640 images belonging to 3 classes.\n"
     ]
    }
   ],
   "source": [
    "path_dir = '/home/jovyan/DATA_MASTER_PROJECT/IMG_A549_high_con/DATA_SETS/'\n",
    "\n",
    "# load and iterate training dataset\n",
    "train_it = datagen.flow_from_directory(path_dir + 'Train', class_mode='categorical', batch_size=512, \n",
    "                                        color_mode = 'rgb')\n",
    "# load and iterate validation dataset\n",
    "val_it = datagen.flow_from_directory(path_dir + 'Validation', class_mode='categorical', batch_size=512, \n",
    "                                      color_mode = 'rgb')\n",
    "# load and iterate test dataset\n",
    "test_it = datagen.flow_from_directory(path_dir + 'Test', class_mode='categorical', batch_size=128,\n",
    "                                      color_mode = 'rgb')"
   ]
  },
  {
   "cell_type": "code",
   "execution_count": 6,
   "metadata": {},
   "outputs": [
    {
     "name": "stdout",
     "output_type": "stream",
     "text": [
      "Batch shape=(512, 256, 256, 3), min=-123.680, max=151.061\n"
     ]
    }
   ],
   "source": [
    "batchX, batchy = train_it.next()\n",
    "print('Batch shape=%s, min=%.3f, max=%.3f' % (batchX.shape, batchX.min(), batchX.max()))"
   ]
  },
  {
   "cell_type": "code",
   "execution_count": 7,
   "metadata": {},
   "outputs": [
    {
     "name": "stdout",
     "output_type": "stream",
     "text": [
      "Model_loaded\n"
     ]
    }
   ],
   "source": [
    "es = EarlyStopping(monitor='val_loss', mode='min', verbose=2, patience=3)\n",
    "\n",
    "pretrained_model = VGG16(weights='imagenet',include_top=False, input_shape=(256, 256, 3))\n",
    "\n",
    "base_model = Model(inputs=pretrained_model.input, outputs=pretrained_model.get_layer('block3_pool').output)\n",
    "\n",
    "print('Model_loaded')\n"
   ]
  },
  {
   "cell_type": "code",
   "execution_count": 8,
   "metadata": {},
   "outputs": [],
   "source": [
    "weights = class_weight.compute_class_weight(\n",
    "               'balanced',\n",
    "                np.unique(train_it.classes), \n",
    "                train_it.classes)\n",
    "weights = dict(enumerate(weights))"
   ]
  },
  {
   "cell_type": "code",
   "execution_count": 9,
   "metadata": {},
   "outputs": [],
   "source": [
    "m4 = Sequential()\n",
    "m4.add(base_model)\n",
    "\n",
    "\n",
    "m4.add(BatchNormalization())\n",
    "m4.add(GlobalAveragePooling2D())\n",
    "m4.add(Dense(128, activation='relu'))\n",
    "m4.add(BatchNormalization())\n",
    "m4.add(Dense(64, activation='relu'))\n",
    "m4.add(BatchNormalization())\n",
    "m4.add(Activation('relu'))\n",
    "m4.add(Dense(3,activation='softmax'))\n",
    "\n",
    "\n",
    "base_model.trainable = False\n",
    "\n",
    "opt = keras.optimizers.Adam(lr=1e-3)\n",
    "\n",
    "m4.compile(loss= keras.losses.categorical_crossentropy, optimizer=opt, metrics = ['accuracy'])\n"
   ]
  },
  {
   "cell_type": "code",
   "execution_count": null,
   "metadata": {},
   "outputs": [
    {
     "name": "stdout",
     "output_type": "stream",
     "text": [
      "WARNING:tensorflow:From <ipython-input-10-d99cd8566304>:10: Model.fit_generator (from tensorflow.python.keras.engine.training) is deprecated and will be removed in a future version.\n",
      "Instructions for updating:\n",
      "Please use Model.fit, which supports generators.\n",
      "WARNING:tensorflow:sample_weight modes were coerced from\n",
      "  ...\n",
      "    to  \n",
      "  ['...']\n",
      "WARNING:tensorflow:sample_weight modes were coerced from\n",
      "  ...\n",
      "    to  \n",
      "  ['...']\n",
      "Train for 145 steps, validate for 96 steps\n",
      "Epoch 1/300\n"
     ]
    }
   ],
   "source": [
    "epochs = 300\n",
    "\n",
    "m4_h = m4.fit_generator(train_it,\n",
    "                steps_per_epoch=(145),\n",
    "                callbacks = [es],\n",
    "                epochs=epochs,\n",
    "                validation_data = val_it, \n",
    "                validation_steps = (96),\n",
    "                class_weight = weights,\n",
    "                 verbose = 1)"
   ]
  },
  {
   "cell_type": "code",
   "execution_count": null,
   "metadata": {},
   "outputs": [],
   "source": [
    "folders = glob.glob('/home/jovyan/DATA_MASTER_PROJECT/IMG_A549_high_con/DATA_SETS/*')\n",
    "\n",
    "for fo in folders:\n",
    "    for f in (glob.glob(fo + '/*')): \n",
    "        print(f)"
   ]
  },
  {
   "cell_type": "code",
   "execution_count": null,
   "metadata": {},
   "outputs": [],
   "source": [
    "folders = glob.glob('/home/jovyan/DATA_MASTER_PROJECT/IMG_A549_high_con/DATA_SETS/*')\n",
    "\n",
    "for fo in folders:\n",
    "    file = glob.glob(f'{fo}/*')\n",
    "    for f in file:\n",
    "        os.remove(f)"
   ]
  }
 ],
 "metadata": {
  "kernelspec": {
   "display_name": "Python 3",
   "language": "python",
   "name": "python3"
  },
  "language_info": {
   "codemirror_mode": {
    "name": "ipython",
    "version": 3
   },
   "file_extension": ".py",
   "mimetype": "text/x-python",
   "name": "python",
   "nbconvert_exporter": "python",
   "pygments_lexer": "ipython3",
   "version": "3.6.9"
  }
 },
 "nbformat": 4,
 "nbformat_minor": 4
}
