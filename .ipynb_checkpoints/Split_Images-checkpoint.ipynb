{
 "cells": [
  {
   "cell_type": "code",
   "execution_count": 2,
   "metadata": {},
   "outputs": [],
   "source": [
    "import numpy as np\n",
    "import cv2 \n",
    "import matplotlib.pyplot as plt\n",
    "import pandas as pd\n",
    "from PIL import Image\n",
    "import glob\n",
    "import os\n",
    "from os import *\n",
    "import re\n",
    "import imutils\n",
    "from PIL import Image\n",
    "import tqdm"
   ]
  },
  {
   "cell_type": "code",
   "execution_count": 2,
   "metadata": {},
   "outputs": [],
   "source": [
    "def atoi(text):\n",
    "    return int(text) if text.isdigit() else text\n",
    "def natural_keys(text):\n",
    "    return [atoi(c) for c in re.split('(\\d+)', text)]\n"
   ]
  },
  {
   "cell_type": "code",
   "execution_count": 3,
   "metadata": {},
   "outputs": [],
   "source": [
    "def crop(arr, nrows, ncols):\n",
    "    \"\"\"\n",
    "    Return an array of shape (n, nrows, ncols) where\n",
    "    n * nrows * ncols = arr.size\n",
    "\n",
    "    If arr is a 2D array, the returned array should look like n subblocks with\n",
    "    each subblock preserving the \"physical\" layout of arr.\n",
    "    \"\"\"\n",
    "    h, w = arr.shape\n",
    "    assert h % nrows == 0, \"{} rows is not evenly divisble by {}\".format(h, nrows)\n",
    "    assert w % ncols == 0, \"{} cols is not evenly divisble by {}\".format(w, ncols)\n",
    "    return (arr.reshape(h//nrows, nrows, -1, ncols)\n",
    "               .swapaxes(1,2)\n",
    "               .reshape(-1, nrows, ncols))"
   ]
  },
  {
   "cell_type": "code",
   "execution_count": 8,
   "metadata": {},
   "outputs": [],
   "source": [
    "def find_cut(path_img, via_img, well_to_use, save_path):\n",
    "    \n",
    "    images = []\n",
    "\n",
    "    for _,_, filenames in os.walk(path_img):\n",
    "        for filename in sorted(filenames, key = natural_keys):\n",
    "            if well_to_use in filename:\n",
    "\n",
    "                im=cv2.imread(path_img + filename,0)\n",
    "\n",
    "                imarray = np.array(im)\n",
    "\n",
    "\n",
    "                images.append(imarray)\n",
    "    s_crop = []\n",
    "\n",
    "    for ix,_ in enumerate(images):\n",
    "        s = (crop(images[ix],256,256))\n",
    "        for idx,_ in enumerate(s):\n",
    "\n",
    "            imarray = np.array(s[idx])\n",
    "            \n",
    "            im = Image.fromarray(imarray)\n",
    "\n",
    "            im.save(save_path.format(via_img, well_to_use,idx, ix))\n",
    "\n",
    "            s_crop.append(imarray)\n",
    "    \n",
    "    return(s_crop)"
   ]
  },
  {
   "cell_type": "code",
   "execution_count": null,
   "metadata": {},
   "outputs": [],
   "source": []
  },
  {
   "cell_type": "code",
   "execution_count": 32,
   "metadata": {},
   "outputs": [],
   "source": [
    "path = '/home/jovyan/DATA_MASTER_PROJECT/IMG_A549_high_con/full_size_ADR/'"
   ]
  },
  {
   "cell_type": "code",
   "execution_count": 3,
   "metadata": {},
   "outputs": [],
   "source": [
    "via = '/home/jovyan/DATA_MASTER_PROJECT/IMG_A549_high_con/ADR_tile/'\n",
    "#directory = os.mkdir(via) "
   ]
  },
  {
   "cell_type": "code",
   "execution_count": 34,
   "metadata": {},
   "outputs": [],
   "source": [
    "name_well = []\n",
    "for di,dr,f in os.walk(path):\n",
    "    for i in f:\n",
    "        name_well.append(i.split(' ')[1].split(' ')[0])"
   ]
  },
  {
   "cell_type": "code",
   "execution_count": 35,
   "metadata": {},
   "outputs": [
    {
     "data": {
      "text/plain": [
       "60"
      ]
     },
     "execution_count": 35,
     "metadata": {},
     "output_type": "execute_result"
    }
   ],
   "source": [
    "wells = sorted(list(set(name_well)))\n",
    "len(wells)"
   ]
  },
  {
   "cell_type": "code",
   "execution_count": 36,
   "metadata": {},
   "outputs": [
    {
     "name": "stderr",
     "output_type": "stream",
     "text": [
      "100%|██████████| 60/60 [01:16<00:00,  1.27s/it]\n"
     ]
    }
   ],
   "source": [
    "final_count = []\n",
    "\n",
    "for i in tqdm.tqdm(wells):\n",
    "    count = find_cut(path, via, i,'{0}/adr_{1}_id_{2}_time_{3}.tiff' )\n",
    "    final_count.append(count)"
   ]
  },
  {
   "cell_type": "code",
   "execution_count": 5,
   "metadata": {},
   "outputs": [],
   "source": [
    "tot = []\n",
    "for _,_,i in os.walk(via):\n",
    "    for j in i:\n",
    "        tot.append(j)\n",
    "        "
   ]
  },
  {
   "cell_type": "code",
   "execution_count": 12,
   "metadata": {},
   "outputs": [
    {
     "data": {
      "text/plain": [
       "'adr_B11-1_id_2_time_6.tiff'"
      ]
     },
     "execution_count": 12,
     "metadata": {},
     "output_type": "execute_result"
    }
   ],
   "source": [
    "tot[0]"
   ]
  },
  {
   "cell_type": "code",
   "execution_count": 17,
   "metadata": {},
   "outputs": [],
   "source": [
    "images = []\n",
    "for i in tot:\n",
    "    im=cv2.imread(via + i, 1)\n",
    "    imarray = np.array(im)\n",
    "    images.append(imarray)\n",
    "    "
   ]
  },
  {
   "cell_type": "code",
   "execution_count": 18,
   "metadata": {},
   "outputs": [
    {
     "data": {
      "text/plain": [
       "<matplotlib.image.AxesImage at 0x7f59a820c160>"
      ]
     },
     "execution_count": 18,
     "metadata": {},
     "output_type": "execute_result"
    },
    {
     "data": {
      "image/png": "[encoded data removed]",
      "text/plain": [
       "<Figure size 432x288 with 1 Axes>"
      ]
     },
     "metadata": {
      "needs_background": "light"
     },
     "output_type": "display_data"
    }
   ],
   "source": [
    "plt.imshow(images[0])"
   ]
  },
  {
   "cell_type": "code",
   "execution_count": 19,
   "metadata": {},
   "outputs": [
    {
     "data": {
      "text/plain": [
       "(256, 256, 3)"
      ]
     },
     "execution_count": 19,
     "metadata": {},
     "output_type": "execute_result"
    }
   ],
   "source": [
    "images[0].shape"
   ]
  },
  {
   "cell_type": "code",
   "execution_count": null,
   "metadata": {},
   "outputs": [],
   "source": []
  }
 ],
 "metadata": {
  "kernelspec": {
   "display_name": "Python 3",
   "language": "python",
   "name": "python3"
  },
  "language_info": {
   "codemirror_mode": {
    "name": "ipython",
    "version": 3
   },
   "file_extension": ".py",
   "mimetype": "text/x-python",
   "name": "python",
   "nbconvert_exporter": "python",
   "pygments_lexer": "ipython3",
   "version": "3.6.9"
  }
 },
 "nbformat": 4,
 "nbformat_minor": 4
}
