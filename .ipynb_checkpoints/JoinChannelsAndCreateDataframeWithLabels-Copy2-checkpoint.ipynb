{
 "cells": [
  {
   "cell_type": "code",
   "execution_count": 33,
   "metadata": {},
   "outputs": [],
   "source": [
    "import numpy as np\n",
    "import pandas as pd\n",
    "import os, shutil, glob\n",
    "from PIL import Image\n",
    "from itertools import islice"
   ]
  },
  {
   "cell_type": "code",
   "execution_count": 34,
   "metadata": {},
   "outputs": [
    {
     "name": "stdin",
     "output_type": "stream",
     "text": [
      "Enter directory name of plate folders:  /mnt/micro-images-pvc/PolinaG-U2OS\n"
     ]
    }
   ],
   "source": [
    "basedir = input(\"Enter directory name of plate folders: \") # /mnt/micro-images-pvc/PolinaG-U2OS\n"
   ]
  },
  {
   "cell_type": "code",
   "execution_count": 35,
   "metadata": {},
   "outputs": [
    {
     "name": "stdin",
     "output_type": "stream",
     "text": [
      "Enter directory name for images from channels MiSyHo:  /home/jovyan/scratch-shared/Linnea/MiSyHo3\n"
     ]
    }
   ],
   "source": [
    "outputdir1 = input(\"Enter directory name for images from channels MiSyHo: \") # /home/jovyan/scratch-shared/maris/U2OS/...\n",
    "os.mkdir(outputdir1)"
   ]
  },
  {
   "cell_type": "code",
   "execution_count": 36,
   "metadata": {},
   "outputs": [
    {
     "name": "stdin",
     "output_type": "stream",
     "text": [
      "Enter directory name for images from channels MiCoPh:  /home/jovyan/scratch-shared/Linnea/MiCoPh3\n"
     ]
    }
   ],
   "source": [
    "outputdir2 = input(\"Enter directory name for images from channels MiCoPh: \") # /home/jovyan/scratch-shared/maris/U2OS/...\n",
    "os.mkdir(outputdir2)"
   ]
  },
  {
   "cell_type": "code",
   "execution_count": 73,
   "metadata": {},
   "outputs": [
    {
     "data": {
      "text/plain": [
       "['181212-U2OS-20X-BpA-HD-DB-high',\n",
       " '181212-U2OS-20X-BpA-HD-DB-low',\n",
       " '190124-U2OS-20X-CopyAP009069',\n",
       " '190131-U2OS-20X-CopyAP009064',\n",
       " '190131-U2OS-20X-CopyAP009065',\n",
       " '190131-U2OS-20X-CopyAP009066',\n",
       " '190131-U2OS-20X-CopyAP009067',\n",
       " '190131-U2OS-20X-CopyAP009068',\n",
       " '190201-U2OS-20X-CopyAP009063',\n",
       " '190201-U2OS-20X-CopyAP009083',\n",
       " '190206-U2OS-20X-CopyAP009070',\n",
       " '190206-U2OS-20X-CopyAP009071',\n",
       " '190206-U2OS-20X-CopyAP009072',\n",
       " '190207-U2OS-20X-CopyAP009073',\n",
       " '190207-U2OS-20X-CopyAP009074',\n",
       " '190207-U2OS-20X-CopyAP009075',\n",
       " '190207-U2OS-20X-CopyAP009076',\n",
       " '190207-U2OS-20X-CopyAP009077',\n",
       " '190207-U2OS-20X-CopyAP009078',\n",
       " '190207-U2OS-20X-CopyAP009079',\n",
       " '190208-U2OS-20X-CopyAP009080',\n",
       " '190208-U2OS-20X-CopyAP009081',\n",
       " '190208-U2OS-20X-CopyAP009082',\n",
       " '190208-U2OS-20X-CopyAP009084']"
      ]
     },
     "execution_count": 73,
     "metadata": {},
     "output_type": "execute_result"
    }
   ],
   "source": [
    "os.listdir(basedir)"
   ]
  },
  {
   "cell_type": "code",
   "execution_count": null,
   "metadata": {},
   "outputs": [],
   "source": []
  },
  {
   "cell_type": "code",
   "execution_count": 74,
   "metadata": {},
   "outputs": [],
   "source": [
    " # window if crops = 1\n",
    "\n",
    "def slide_window(img, dims=(540, 540)):\n",
    "    window_height, window_width = dims\n",
    "    y, x = img.shape[:2]\n",
    "    crop_images = np.zeros((crops,540,540,5)) # dtype=\"uint8\"\n",
    "\n",
    "    index = 0\n",
    "    col = 0\n",
    "    for i in range(y//window_height):\n",
    "        row = 0\n",
    "        for j in range(x//window_width):\n",
    "            crop_images[index] = img[row:row+window_height, col:col+window_width, :]\n",
    "            row += window_height\n",
    "            index += 1\n",
    "        col += window_width\n",
    "    return crop_images"
   ]
  },
  {
   "cell_type": "code",
   "execution_count": 75,
   "metadata": {},
   "outputs": [],
   "source": [
    "def anscombe(x):  # Makes dark images brighter. Needed???\n",
    "    x = x.astype(np.float32)\n",
    "    return (np.sqrt(x))"
   ]
  },
  {
   "cell_type": "code",
   "execution_count": null,
   "metadata": {},
   "outputs": [],
   "source": []
  },
  {
   "cell_type": "code",
   "execution_count": 76,
   "metadata": {},
   "outputs": [],
   "source": [
    "def Normalization(x ,y, idx,crops):\n",
    "\n",
    "    channels = x.shape[3]\n",
    "    x = x.astype(np.float32)\n",
    "             \n",
    "    x[:,:,:,:] = x[:,:,:,:] * 16\n",
    "    \n",
    "    ## For each channel, change range from (percentile 99.9 - percentile 1) to 255 - 0\n",
    "    # for i in range(channels):\n",
    "    #    OldRange = (np.percentile(x[:,:,:,i], 99.9) - np.percentile(x[:,:,:,i], 1))\n",
    "    #    NewRange = (255 - 0)\n",
    "    #    x[:,:,:,i] = ((x[:,:,:,i] - x[:,:,:,i].min())  * (NewRange / OldRange) + 0)\n",
    "    #    x = np.where(x < 255, x, 255)\n",
    "    #    x = np.where(x > 0, x, 0)\n",
    "    \n",
    "    for i,j in zip(range(x.shape[0]), idx):\n",
    "        xt = np.copy(x[i,:,:,:])\n",
    "        #print ('image pixel intensity mean and std: ', xt.mean(), xt.std())\n",
    "        imgs = slide_window(xt)\n",
    "        for i,img in enumerate(imgs):\n",
    "            imgMiSyHo = img[:,:,0:3]\n",
    "            imgMiCoPh = img[:,:,[0,3,4]]\n",
    "            \n",
    "            img_cropped1 = Image.fromarray(imgMiSyHo.astype(\"uint8\"))\n",
    "            img_cropped2 = Image.fromarray(imgMiCoPh.astype(\"uint8\"))\n",
    "            \n",
    "            # Save images to directories\n",
    "            img_cropped1.save(outputdir1 + \"/%s.png\" % str(j+i))\n",
    "            img_cropped2.save(outputdir2 + \"/%s.png\" % str(j+i))\n",
    "    return"
   ]
  },
  {
   "cell_type": "code",
   "execution_count": 77,
   "metadata": {},
   "outputs": [
    {
     "data": {
      "text/html": [
       "<div>\n",
       "<style scoped>\n",
       "    .dataframe tbody tr th:only-of-type {\n",
       "        vertical-align: middle;\n",
       "    }\n",
       "\n",
       "    .dataframe tbody tr th {\n",
       "        vertical-align: top;\n",
       "    }\n",
       "\n",
       "    .dataframe thead th {\n",
       "        text-align: right;\n",
       "    }\n",
       "</style>\n",
       "<table border=\"1\" class=\"dataframe\">\n",
       "  <thead>\n",
       "    <tr style=\"text-align: right;\">\n",
       "      <th></th>\n",
       "      <th>Unnamed: 0</th>\n",
       "      <th>FileName_ORIG_CONCAVALIN</th>\n",
       "      <th>FileName_ORIG_HOECHST</th>\n",
       "      <th>FileName_ORIG_MITO</th>\n",
       "      <th>FileName_ORIG_PHALLOIDIN_WGA</th>\n",
       "      <th>FileName_ORIG_SYTO</th>\n",
       "      <th>Metadata_BARCODE</th>\n",
       "      <th>Metadata_SITE</th>\n",
       "      <th>Metadata_WELL</th>\n",
       "      <th>Nr</th>\n",
       "      <th>...</th>\n",
       "      <th>TREATMENT_h</th>\n",
       "      <th>cpd_num</th>\n",
       "      <th>library</th>\n",
       "      <th>cpd_structure</th>\n",
       "      <th>cpd_name</th>\n",
       "      <th>CBK_ID</th>\n",
       "      <th>batch_nr</th>\n",
       "      <th>therapeutic_class</th>\n",
       "      <th>therapeutic_effect</th>\n",
       "      <th>InChiKey</th>\n",
       "    </tr>\n",
       "  </thead>\n",
       "  <tbody>\n",
       "    <tr>\n",
       "      <th>12295</th>\n",
       "      <td>12295</td>\n",
       "      <td>190208-U2OS-20X-CopyAP009084_G11_s5_w40F7812EB...</td>\n",
       "      <td>190208-U2OS-20X-CopyAP009084_G11_s5_w169B910AB...</td>\n",
       "      <td>190208-U2OS-20X-CopyAP009084_G11_s5_w314AF3809...</td>\n",
       "      <td>190208-U2OS-20X-CopyAP009084_G11_s5_w57207FDE4...</td>\n",
       "      <td>190208-U2OS-20X-CopyAP009084_G11_s5_w24FE693B0...</td>\n",
       "      <td>P009084</td>\n",
       "      <td>5</td>\n",
       "      <td>G11</td>\n",
       "      <td>21</td>\n",
       "      <td>...</td>\n",
       "      <td>48.0</td>\n",
       "      <td>378.0</td>\n",
       "      <td>Selleck-known kinase inhibitors</td>\n",
       "      <td>Cl.Cl.FC(F)(F)C1=CC2=C(C=C1)C(SCCCCCOC1=COC(CN...</td>\n",
       "      <td>EHT 1864</td>\n",
       "      <td>CBK293913C</td>\n",
       "      <td>BJ1856355</td>\n",
       "      <td>Rho</td>\n",
       "      <td>NaN</td>\n",
       "      <td>LSECOAJFCKFQJG-UHFFFAOYSA-N</td>\n",
       "    </tr>\n",
       "    <tr>\n",
       "      <th>12296</th>\n",
       "      <td>12296</td>\n",
       "      <td>190208-U2OS-20X-CopyAP009084_G11_s6_w4F220BDE7...</td>\n",
       "      <td>190208-U2OS-20X-CopyAP009084_G11_s6_w1998071EB...</td>\n",
       "      <td>190208-U2OS-20X-CopyAP009084_G11_s6_w3979B5E5F...</td>\n",
       "      <td>190208-U2OS-20X-CopyAP009084_G11_s6_w5FC0F153F...</td>\n",
       "      <td>190208-U2OS-20X-CopyAP009084_G11_s6_w270D170C9...</td>\n",
       "      <td>P009084</td>\n",
       "      <td>6</td>\n",
       "      <td>G11</td>\n",
       "      <td>21</td>\n",
       "      <td>...</td>\n",
       "      <td>48.0</td>\n",
       "      <td>378.0</td>\n",
       "      <td>Selleck-known kinase inhibitors</td>\n",
       "      <td>Cl.Cl.FC(F)(F)C1=CC2=C(C=C1)C(SCCCCCOC1=COC(CN...</td>\n",
       "      <td>EHT 1864</td>\n",
       "      <td>CBK293913C</td>\n",
       "      <td>BJ1856355</td>\n",
       "      <td>Rho</td>\n",
       "      <td>NaN</td>\n",
       "      <td>LSECOAJFCKFQJG-UHFFFAOYSA-N</td>\n",
       "    </tr>\n",
       "    <tr>\n",
       "      <th>12297</th>\n",
       "      <td>12297</td>\n",
       "      <td>190208-U2OS-20X-CopyAP009084_G11_s7_w4F8217623...</td>\n",
       "      <td>190208-U2OS-20X-CopyAP009084_G11_s7_w11380A259...</td>\n",
       "      <td>190208-U2OS-20X-CopyAP009084_G11_s7_w3ED603FAD...</td>\n",
       "      <td>190208-U2OS-20X-CopyAP009084_G11_s7_w544BC1D13...</td>\n",
       "      <td>190208-U2OS-20X-CopyAP009084_G11_s7_w2D94DE283...</td>\n",
       "      <td>P009084</td>\n",
       "      <td>7</td>\n",
       "      <td>G11</td>\n",
       "      <td>21</td>\n",
       "      <td>...</td>\n",
       "      <td>48.0</td>\n",
       "      <td>378.0</td>\n",
       "      <td>Selleck-known kinase inhibitors</td>\n",
       "      <td>Cl.Cl.FC(F)(F)C1=CC2=C(C=C1)C(SCCCCCOC1=COC(CN...</td>\n",
       "      <td>EHT 1864</td>\n",
       "      <td>CBK293913C</td>\n",
       "      <td>BJ1856355</td>\n",
       "      <td>Rho</td>\n",
       "      <td>NaN</td>\n",
       "      <td>LSECOAJFCKFQJG-UHFFFAOYSA-N</td>\n",
       "    </tr>\n",
       "    <tr>\n",
       "      <th>12298</th>\n",
       "      <td>12298</td>\n",
       "      <td>190208-U2OS-20X-CopyAP009084_G11_s8_w44EC3E75E...</td>\n",
       "      <td>190208-U2OS-20X-CopyAP009084_G11_s8_w1270DA46E...</td>\n",
       "      <td>190208-U2OS-20X-CopyAP009084_G11_s8_w3487FE656...</td>\n",
       "      <td>190208-U2OS-20X-CopyAP009084_G11_s8_w5725FA162...</td>\n",
       "      <td>190208-U2OS-20X-CopyAP009084_G11_s8_w2E96D33A7...</td>\n",
       "      <td>P009084</td>\n",
       "      <td>8</td>\n",
       "      <td>G11</td>\n",
       "      <td>21</td>\n",
       "      <td>...</td>\n",
       "      <td>48.0</td>\n",
       "      <td>378.0</td>\n",
       "      <td>Selleck-known kinase inhibitors</td>\n",
       "      <td>Cl.Cl.FC(F)(F)C1=CC2=C(C=C1)C(SCCCCCOC1=COC(CN...</td>\n",
       "      <td>EHT 1864</td>\n",
       "      <td>CBK293913C</td>\n",
       "      <td>BJ1856355</td>\n",
       "      <td>Rho</td>\n",
       "      <td>NaN</td>\n",
       "      <td>LSECOAJFCKFQJG-UHFFFAOYSA-N</td>\n",
       "    </tr>\n",
       "    <tr>\n",
       "      <th>12299</th>\n",
       "      <td>12299</td>\n",
       "      <td>190208-U2OS-20X-CopyAP009084_G11_s9_w4590CEADD...</td>\n",
       "      <td>190208-U2OS-20X-CopyAP009084_G11_s9_w157E8E9FA...</td>\n",
       "      <td>190208-U2OS-20X-CopyAP009084_G11_s9_w312165221...</td>\n",
       "      <td>190208-U2OS-20X-CopyAP009084_G11_s9_w58E8FA790...</td>\n",
       "      <td>190208-U2OS-20X-CopyAP009084_G11_s9_w2FDA9F990...</td>\n",
       "      <td>P009084</td>\n",
       "      <td>9</td>\n",
       "      <td>G11</td>\n",
       "      <td>21</td>\n",
       "      <td>...</td>\n",
       "      <td>48.0</td>\n",
       "      <td>378.0</td>\n",
       "      <td>Selleck-known kinase inhibitors</td>\n",
       "      <td>Cl.Cl.FC(F)(F)C1=CC2=C(C=C1)C(SCCCCCOC1=COC(CN...</td>\n",
       "      <td>EHT 1864</td>\n",
       "      <td>CBK293913C</td>\n",
       "      <td>BJ1856355</td>\n",
       "      <td>Rho</td>\n",
       "      <td>NaN</td>\n",
       "      <td>LSECOAJFCKFQJG-UHFFFAOYSA-N</td>\n",
       "    </tr>\n",
       "  </tbody>\n",
       "</table>\n",
       "<p>5 rows × 33 columns</p>\n",
       "</div>"
      ],
      "text/plain": [
       "       Unnamed: 0                           FileName_ORIG_CONCAVALIN  \\\n",
       "12295       12295  190208-U2OS-20X-CopyAP009084_G11_s5_w40F7812EB...   \n",
       "12296       12296  190208-U2OS-20X-CopyAP009084_G11_s6_w4F220BDE7...   \n",
       "12297       12297  190208-U2OS-20X-CopyAP009084_G11_s7_w4F8217623...   \n",
       "12298       12298  190208-U2OS-20X-CopyAP009084_G11_s8_w44EC3E75E...   \n",
       "12299       12299  190208-U2OS-20X-CopyAP009084_G11_s9_w4590CEADD...   \n",
       "\n",
       "                                   FileName_ORIG_HOECHST  \\\n",
       "12295  190208-U2OS-20X-CopyAP009084_G11_s5_w169B910AB...   \n",
       "12296  190208-U2OS-20X-CopyAP009084_G11_s6_w1998071EB...   \n",
       "12297  190208-U2OS-20X-CopyAP009084_G11_s7_w11380A259...   \n",
       "12298  190208-U2OS-20X-CopyAP009084_G11_s8_w1270DA46E...   \n",
       "12299  190208-U2OS-20X-CopyAP009084_G11_s9_w157E8E9FA...   \n",
       "\n",
       "                                      FileName_ORIG_MITO  \\\n",
       "12295  190208-U2OS-20X-CopyAP009084_G11_s5_w314AF3809...   \n",
       "12296  190208-U2OS-20X-CopyAP009084_G11_s6_w3979B5E5F...   \n",
       "12297  190208-U2OS-20X-CopyAP009084_G11_s7_w3ED603FAD...   \n",
       "12298  190208-U2OS-20X-CopyAP009084_G11_s8_w3487FE656...   \n",
       "12299  190208-U2OS-20X-CopyAP009084_G11_s9_w312165221...   \n",
       "\n",
       "                            FileName_ORIG_PHALLOIDIN_WGA  \\\n",
       "12295  190208-U2OS-20X-CopyAP009084_G11_s5_w57207FDE4...   \n",
       "12296  190208-U2OS-20X-CopyAP009084_G11_s6_w5FC0F153F...   \n",
       "12297  190208-U2OS-20X-CopyAP009084_G11_s7_w544BC1D13...   \n",
       "12298  190208-U2OS-20X-CopyAP009084_G11_s8_w5725FA162...   \n",
       "12299  190208-U2OS-20X-CopyAP009084_G11_s9_w58E8FA790...   \n",
       "\n",
       "                                      FileName_ORIG_SYTO Metadata_BARCODE  \\\n",
       "12295  190208-U2OS-20X-CopyAP009084_G11_s5_w24FE693B0...          P009084   \n",
       "12296  190208-U2OS-20X-CopyAP009084_G11_s6_w270D170C9...          P009084   \n",
       "12297  190208-U2OS-20X-CopyAP009084_G11_s7_w2D94DE283...          P009084   \n",
       "12298  190208-U2OS-20X-CopyAP009084_G11_s8_w2E96D33A7...          P009084   \n",
       "12299  190208-U2OS-20X-CopyAP009084_G11_s9_w2FDA9F990...          P009084   \n",
       "\n",
       "       Metadata_SITE Metadata_WELL  Nr  ...  TREATMENT_h cpd_num  \\\n",
       "12295              5           G11  21  ...         48.0   378.0   \n",
       "12296              6           G11  21  ...         48.0   378.0   \n",
       "12297              7           G11  21  ...         48.0   378.0   \n",
       "12298              8           G11  21  ...         48.0   378.0   \n",
       "12299              9           G11  21  ...         48.0   378.0   \n",
       "\n",
       "                               library  \\\n",
       "12295  Selleck-known kinase inhibitors   \n",
       "12296  Selleck-known kinase inhibitors   \n",
       "12297  Selleck-known kinase inhibitors   \n",
       "12298  Selleck-known kinase inhibitors   \n",
       "12299  Selleck-known kinase inhibitors   \n",
       "\n",
       "                                           cpd_structure  cpd_name  \\\n",
       "12295  Cl.Cl.FC(F)(F)C1=CC2=C(C=C1)C(SCCCCCOC1=COC(CN...  EHT 1864   \n",
       "12296  Cl.Cl.FC(F)(F)C1=CC2=C(C=C1)C(SCCCCCOC1=COC(CN...  EHT 1864   \n",
       "12297  Cl.Cl.FC(F)(F)C1=CC2=C(C=C1)C(SCCCCCOC1=COC(CN...  EHT 1864   \n",
       "12298  Cl.Cl.FC(F)(F)C1=CC2=C(C=C1)C(SCCCCCOC1=COC(CN...  EHT 1864   \n",
       "12299  Cl.Cl.FC(F)(F)C1=CC2=C(C=C1)C(SCCCCCOC1=COC(CN...  EHT 1864   \n",
       "\n",
       "           CBK_ID   batch_nr therapeutic_class therapeutic_effect  \\\n",
       "12295  CBK293913C  BJ1856355               Rho                NaN   \n",
       "12296  CBK293913C  BJ1856355               Rho                NaN   \n",
       "12297  CBK293913C  BJ1856355               Rho                NaN   \n",
       "12298  CBK293913C  BJ1856355               Rho                NaN   \n",
       "12299  CBK293913C  BJ1856355               Rho                NaN   \n",
       "\n",
       "                          InChiKey  \n",
       "12295  LSECOAJFCKFQJG-UHFFFAOYSA-N  \n",
       "12296  LSECOAJFCKFQJG-UHFFFAOYSA-N  \n",
       "12297  LSECOAJFCKFQJG-UHFFFAOYSA-N  \n",
       "12298  LSECOAJFCKFQJG-UHFFFAOYSA-N  \n",
       "12299  LSECOAJFCKFQJG-UHFFFAOYSA-N  \n",
       "\n",
       "[5 rows x 33 columns]"
      ]
     },
     "execution_count": 77,
     "metadata": {},
     "output_type": "execute_result"
    }
   ],
   "source": [
    "# read data file which links images to compound/concentration/therapeutic class etc,\n",
    "data  = pd.read_csv('dataset.csv', low_memory=False, sep=';')\n",
    "data.tail()"
   ]
  },
  {
   "cell_type": "code",
   "execution_count": 78,
   "metadata": {},
   "outputs": [],
   "source": [
    "labels = []\n",
    "# keep track of images\n",
    "count = 0\n",
    "# keep track of dataset\n",
    "dataset = 1\n",
    "# List specifying images to be removed\n",
    "rm_imgs = []"
   ]
  },
  {
   "cell_type": "code",
   "execution_count": 79,
   "metadata": {},
   "outputs": [
    {
     "name": "stdout",
     "output_type": "stream",
     "text": [
      "['P009063', 'P009064', 'P009065', 'P009066', 'P009067', 'P009068', 'P009069', 'P009070', 'P009071', 'P009072', 'P009073', 'P009074', 'P009075', 'P009076', 'P009077', 'P009078', 'P009079', 'P009080', 'P009081', 'P009082', 'P009083', 'P009084']\n",
      "['P009063', 'P009064', 'P009065', 'P009066', 'P009067', 'P009068', 'P009069', 'P009070', 'P009071', 'P009072', 'P009073', 'P009074', 'P009075', 'P009076', 'P009077', 'P009078', 'P009079', 'P009080', 'P009081', 'P009082', 'P009083']\n"
     ]
    },
    {
     "data": {
      "text/plain": [
       "21"
      ]
     },
     "execution_count": 79,
     "metadata": {},
     "output_type": "execute_result"
    }
   ],
   "source": [
    "plates = []\n",
    "\n",
    "for f in (f for f in os.listdir(basedir) if 'AP00' in f):\n",
    "    plates.append(f[-7:]) #save the 7 last characters in the AP00-name\n",
    "plates = list(sorted(set(plates)))\n",
    "print(plates)\n",
    "#plates.remove('P009069')\n",
    "plates.remove('P009084')\n",
    "print(plates)\n",
    "len(plates)"
   ]
  },
  {
   "cell_type": "code",
   "execution_count": 80,
   "metadata": {},
   "outputs": [],
   "source": [
    "size = 540, 540 # Resize images that originally are 2160 x 2160\n",
    "resampling = Image.LANCZOS # options: NEAREST, BILINEAR, BICUBIC, LANCZOS\n",
    "crops = 1 # 1 or 4, or 16"
   ]
  },
  {
   "cell_type": "code",
   "execution_count": 82,
   "metadata": {},
   "outputs": [
    {
     "name": "stdout",
     "output_type": "stream",
     "text": [
      "yes\n",
      "P009064\n"
     ]
    }
   ],
   "source": [
    "for f in plates[:]:\n",
    "    # Assign new variable for current plate\n",
    "    plate_data = data[data['Metadata_BARCODE'].astype(str).str.contains(f)]\n",
    "    \n",
    "    if 'P009064' in f:\n",
    "        print(f)"
   ]
  },
  {
   "cell_type": "code",
   "execution_count": 71,
   "metadata": {},
   "outputs": [
    {
     "ename": "KeyboardInterrupt",
     "evalue": "",
     "output_type": "error",
     "traceback": [
      "\u001b[0;31m---------------------------------------------------------------------------\u001b[0m",
      "\u001b[0;31mKeyboardInterrupt\u001b[0m                         Traceback (most recent call last)",
      "\u001b[0;32m<ipython-input-71-410482cf16f5>\u001b[0m in \u001b[0;36m<module>\u001b[0;34m\u001b[0m\n\u001b[1;32m     10\u001b[0m         \u001b[0;32mfor\u001b[0m \u001b[0mindex\u001b[0m\u001b[0;34m,\u001b[0m \u001b[0mrow\u001b[0m \u001b[0;32min\u001b[0m \u001b[0mislice\u001b[0m\u001b[0;34m(\u001b[0m\u001b[0mplate_data\u001b[0m\u001b[0;34m.\u001b[0m\u001b[0miterrows\u001b[0m\u001b[0;34m(\u001b[0m\u001b[0;34m)\u001b[0m\u001b[0;34m,\u001b[0m \u001b[0;36m0\u001b[0m\u001b[0;34m,\u001b[0m \u001b[0;32mNone\u001b[0m\u001b[0;34m)\u001b[0m\u001b[0;34m:\u001b[0m\u001b[0;34m\u001b[0m\u001b[0;34m\u001b[0m\u001b[0m\n\u001b[1;32m     11\u001b[0m             img_ORIG_CONCAVALIN   = Image.open(glob.glob(basedir + '/*/*/*/%s' %\n\u001b[0;32m---> 12\u001b[0;31m                                                      row['FileName_ORIG_CONCAVALIN'])[0]).point(lambda i:i*(1./256)).convert('L').resize(size, resampling)\n\u001b[0m\u001b[1;32m     13\u001b[0m             \u001b[0mimg_ORIG_CONCAVALIN\u001b[0m   \u001b[0;34m=\u001b[0m \u001b[0mnp\u001b[0m\u001b[0;34m.\u001b[0m\u001b[0marray\u001b[0m\u001b[0;34m(\u001b[0m\u001b[0mimg_ORIG_CONCAVALIN\u001b[0m\u001b[0;34m)\u001b[0m\u001b[0;34m\u001b[0m\u001b[0;34m\u001b[0m\u001b[0m\n\u001b[1;32m     14\u001b[0m \u001b[0;34m\u001b[0m\u001b[0m\n",
      "\u001b[0;32m/usr/local/lib/python3.6/dist-packages/PIL/Image.py\u001b[0m in \u001b[0;36mopen\u001b[0;34m(fp, mode)\u001b[0m\n\u001b[1;32m   2773\u001b[0m         \u001b[0mexclusive_fp\u001b[0m \u001b[0;34m=\u001b[0m \u001b[0;32mTrue\u001b[0m\u001b[0;34m\u001b[0m\u001b[0;34m\u001b[0m\u001b[0m\n\u001b[1;32m   2774\u001b[0m \u001b[0;34m\u001b[0m\u001b[0m\n\u001b[0;32m-> 2775\u001b[0;31m     \u001b[0mprefix\u001b[0m \u001b[0;34m=\u001b[0m \u001b[0mfp\u001b[0m\u001b[0;34m.\u001b[0m\u001b[0mread\u001b[0m\u001b[0;34m(\u001b[0m\u001b[0;36m16\u001b[0m\u001b[0;34m)\u001b[0m\u001b[0;34m\u001b[0m\u001b[0;34m\u001b[0m\u001b[0m\n\u001b[0m\u001b[1;32m   2776\u001b[0m \u001b[0;34m\u001b[0m\u001b[0m\n\u001b[1;32m   2777\u001b[0m     \u001b[0mpreinit\u001b[0m\u001b[0;34m(\u001b[0m\u001b[0;34m)\u001b[0m\u001b[0;34m\u001b[0m\u001b[0;34m\u001b[0m\u001b[0m\n",
      "\u001b[0;31mKeyboardInterrupt\u001b[0m: "
     ]
    }
   ],
   "source": [
    "\n",
    "\n",
    "\n",
    "\n"
   ]
  },
  {
   "cell_type": "code",
   "execution_count": 44,
   "metadata": {},
   "outputs": [
    {
     "ename": "KeyboardInterrupt",
     "evalue": "",
     "output_type": "error",
     "traceback": [
      "\u001b[0;31m---------------------------------------------------------------------------\u001b[0m",
      "\u001b[0;31mKeyboardInterrupt\u001b[0m                         Traceback (most recent call last)",
      "\u001b[0;32m<ipython-input-44-8b5974092a2b>\u001b[0m in \u001b[0;36m<module>\u001b[0;34m\u001b[0m\n\u001b[1;32m     27\u001b[0m \u001b[0;34m\u001b[0m\u001b[0m\n\u001b[1;32m     28\u001b[0m         img_ORIG_SYTO   = Image.open(glob.glob(basedir + '/*/*/*/%s' %\n\u001b[0;32m---> 29\u001b[0;31m                                                row['FileName_ORIG_SYTO'])[0]).point(lambda i:i*(1./256)).convert('L').resize(size, resampling)\n\u001b[0m\u001b[1;32m     30\u001b[0m         \u001b[0mimg_ORIG_SYTO\u001b[0m   \u001b[0;34m=\u001b[0m \u001b[0mnp\u001b[0m\u001b[0;34m.\u001b[0m\u001b[0marray\u001b[0m\u001b[0;34m(\u001b[0m\u001b[0mimg_ORIG_SYTO\u001b[0m\u001b[0;34m)\u001b[0m\u001b[0;34m\u001b[0m\u001b[0;34m\u001b[0m\u001b[0m\n\u001b[1;32m     31\u001b[0m \u001b[0;34m\u001b[0m\u001b[0m\n",
      "\u001b[0;32m/usr/local/lib/python3.6/dist-packages/PIL/Image.py\u001b[0m in \u001b[0;36mopen\u001b[0;34m(fp, mode)\u001b[0m\n\u001b[1;32m   2773\u001b[0m         \u001b[0mexclusive_fp\u001b[0m \u001b[0;34m=\u001b[0m \u001b[0;32mTrue\u001b[0m\u001b[0;34m\u001b[0m\u001b[0;34m\u001b[0m\u001b[0m\n\u001b[1;32m   2774\u001b[0m \u001b[0;34m\u001b[0m\u001b[0m\n\u001b[0;32m-> 2775\u001b[0;31m     \u001b[0mprefix\u001b[0m \u001b[0;34m=\u001b[0m \u001b[0mfp\u001b[0m\u001b[0;34m.\u001b[0m\u001b[0mread\u001b[0m\u001b[0;34m(\u001b[0m\u001b[0;36m16\u001b[0m\u001b[0;34m)\u001b[0m\u001b[0;34m\u001b[0m\u001b[0;34m\u001b[0m\u001b[0m\n\u001b[0m\u001b[1;32m   2776\u001b[0m \u001b[0;34m\u001b[0m\u001b[0m\n\u001b[1;32m   2777\u001b[0m     \u001b[0mpreinit\u001b[0m\u001b[0;34m(\u001b[0m\u001b[0;34m)\u001b[0m\u001b[0;34m\u001b[0m\u001b[0;34m\u001b[0m\u001b[0m\n",
      "\u001b[0;31mKeyboardInterrupt\u001b[0m: "
     ]
    }
   ],
   "source": [
    "\n",
    "# Iterate through directories, each containing one plate\n",
    "for f in plates[:]:\n",
    "    # Assign new variable for current plate\n",
    "    plate_data = data[data['Metadata_BARCODE'].astype(str).str.contains(f)]\n",
    "    \n",
    "    idx = []\n",
    "    plate_X = []\n",
    "    plate_Y = []\n",
    "    # Iterate through current plate\n",
    "    for index, row in islice(plate_data.iterrows(), 0, None): \n",
    "        img_ORIG_CONCAVALIN   = Image.open(glob.glob(basedir + '/*/*/*/%s' %\n",
    "                                                     row['FileName_ORIG_CONCAVALIN'])[0]).point(lambda i:i*(1./256)).convert('L').resize(size, resampling)\n",
    "        img_ORIG_CONCAVALIN   = np.array(img_ORIG_CONCAVALIN)\n",
    "\n",
    "        \n",
    "        img_ORIG_HOECHST   = Image.open(glob.glob(basedir + '/*/*/*/%s' % \n",
    "                                                  row['FileName_ORIG_HOECHST'])[0]).point(lambda i:i*(1./256)).convert('L').resize(size, resampling)\n",
    "        img_ORIG_HOECHST   = np.array(img_ORIG_HOECHST)\n",
    "        \n",
    "        img_ORIG_MITO   = Image.open(glob.glob(basedir + '/*/*/*/%s' %\n",
    "                                               row['FileName_ORIG_MITO'])[0]).point(lambda i:i*(1./256)).convert('L').resize(size, resampling)\n",
    "        img_ORIG_MITO   = np.array(img_ORIG_MITO)\n",
    "        \n",
    "        img_ORIG_PHALLOIDIN_WGA   = Image.open(glob.glob(basedir + '/*/*/*/%s' %\n",
    "                                                         row['FileName_ORIG_PHALLOIDIN_WGA'])[0]).point(lambda i:i*(1./256)).convert('L').resize(size, resampling)\n",
    "        img_ORIG_PHALLOIDIN_WGA   = np.array(img_ORIG_PHALLOIDIN_WGA)\n",
    "        \n",
    "        img_ORIG_SYTO   = Image.open(glob.glob(basedir + '/*/*/*/%s' %\n",
    "                                               row['FileName_ORIG_SYTO'])[0]).point(lambda i:i*(1./256)).convert('L').resize(size, resampling)\n",
    "        img_ORIG_SYTO   = np.array(img_ORIG_SYTO)\n",
    "        \n",
    "        img_stack   = np.dstack((img_ORIG_MITO, img_ORIG_SYTO, img_ORIG_HOECHST, img_ORIG_CONCAVALIN, img_ORIG_PHALLOIDIN_WGA)) \n",
    "        plate_X.append(img_stack)\n",
    "\n",
    "        if row['WELL_ROLE']:# != 'control':\n",
    "                [labels.append( [row['Metadata_BARCODE'],\n",
    "                                row['Metadata_WELL'],\n",
    "                                row['Metadata_SITE'],\n",
    "                                row['WELL_ROLE'],\n",
    "                                row['CMPD_ID'],\n",
    "                                row['therapeutic_class'],\n",
    "                                row['CMPD_CONC_uM']]) for i in range(crops)]\n",
    "\n",
    "                idx.append(count)\n",
    "                count += crops\n",
    "\n",
    "        plate_Y.append([row['Metadata_BARCODE'],\n",
    "                                row['Metadata_WELL'],\n",
    "                                row['Metadata_SITE'],\n",
    "                                row['CMPD_ID'],\n",
    "                                row['CMPD_CONC_uM']])\n",
    "\n",
    "    plate_Y      = np.asarray(plate_Y)\n",
    "    dmso_idx     = np.where(plate_Y[:,3] == \"DMSO\")[0]\n",
    "    non_dmso_idx = np.where(plate_Y[:,3] != \"DMSO\")[0]\n",
    "    all_idx = np.where(plate_Y[:,3])[0]\n",
    "\n",
    "df = pd.DataFrame(labels)\n"
   ]
  },
  {
   "cell_type": "code",
   "execution_count": null,
   "metadata": {},
   "outputs": [],
   "source": []
  },
  {
   "cell_type": "code",
   "execution_count": null,
   "metadata": {},
   "outputs": [],
   "source": [
    "df.head(3)"
   ]
  },
  {
   "cell_type": "code",
   "execution_count": null,
   "metadata": {},
   "outputs": [],
   "source": []
  }
 ],
 "metadata": {
  "anaconda-cloud": {},
  "kernelspec": {
   "display_name": "Python 3",
   "language": "python",
   "name": "python3"
  },
  "language_info": {
   "codemirror_mode": {
    "name": "ipython",
    "version": 3
   },
   "file_extension": ".py",
   "mimetype": "text/x-python",
   "name": "python",
   "nbconvert_exporter": "python",
   "pygments_lexer": "ipython3",
   "version": "3.6.9"
  }
 },
 "nbformat": 4,
 "nbformat_minor": 4
}
