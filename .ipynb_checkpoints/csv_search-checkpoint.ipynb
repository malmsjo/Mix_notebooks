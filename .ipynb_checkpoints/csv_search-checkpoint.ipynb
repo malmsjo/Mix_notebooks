{
 "cells": [
  {
   "cell_type": "code",
   "execution_count": 15,
   "metadata": {},
   "outputs": [],
   "source": [
    "import pandas as pd"
   ]
  },
  {
   "cell_type": "code",
   "execution_count": 16,
   "metadata": {},
   "outputs": [],
   "source": [
    "df = pd.read_csv('VictorParentCopy2.csv')"
   ]
  },
  {
   "cell_type": "code",
   "execution_count": 17,
   "metadata": {},
   "outputs": [],
   "source": [
    "df.drop(columns = ['plateID','compoundID', 'batchNr','VOLnl','CONCmM'], inplace=True)"
   ]
  },
  {
   "cell_type": "code",
   "execution_count": 18,
   "metadata": {},
   "outputs": [],
   "source": [
    "hrh = ['clemastine',\n",
    "    'cyclizine',\n",
    "    'dimenhydrinate',\n",
    "    'cyproheptadine',\n",
    "    'loratadine',\n",
    "    'doxylamine',\n",
    "    'olopatadine',\n",
    "    'histamine',\n",
    "    'hydroxyzine',\n",
    "    'orphenadrine',\n",
    "    'cinnarizine',\n",
    "    'rupatadine',\n",
    "    'bepotastine',\n",
    "    'desloratadine',\n",
    "    'chlorcyclizine',\n",
    "    'trimeprazine',\n",
    "    'mianserin',\n",
    "    'fexofenadine',\n",
    "    'chlorpheniramine',\n",
    "    'triprolidine',\n",
    "    'desipramine',\n",
    "    'levocabastine',\n",
    "    'diphenhydramine',\n",
    "    'diphenylpyraline',\n",
    "    'emedastine',\n",
    "    'cetirizine',\n",
    "    'tripelennamine',\n",
    "    'doxepin',\n",
    "    'chloropyramine',\n",
    "    'flunarizine',\n",
    "    'ketotifen']\n",
    "\n"
   ]
  },
  {
   "cell_type": "code",
   "execution_count": 19,
   "metadata": {},
   "outputs": [],
   "source": [
    "a = 'methoxamine midodrine oxymetazoline phenylephrine naphazoline dipivefrin metaraminol labetalol carvedilol mephentermine droxidopa nefazodone trimipramine doxazosin'\n",
    "\n",
    "adr = a.split(' ')\n",
    "\n"
   ]
  },
  {
   "cell_type": "code",
   "execution_count": 22,
   "metadata": {},
   "outputs": [],
   "source": [
    "lis = df.values.tolist()"
   ]
  },
  {
   "cell_type": "code",
   "execution_count": 23,
   "metadata": {},
   "outputs": [],
   "source": [
    "adrenaline = [l for i in adr for l in lis if i in l]"
   ]
  },
  {
   "cell_type": "code",
   "execution_count": 24,
   "metadata": {},
   "outputs": [
    {
     "data": {
      "text/plain": [
       "[['B08', '69', 'methoxamine'],\n",
       " ['F11', '73', 'midodrine'],\n",
       " ['E06', '85', 'oxymetazoline'],\n",
       " ['D09', '79', 'naphazoline'],\n",
       " ['D05', '41', 'dipivefrin'],\n",
       " ['F03', '68', 'metaraminol'],\n",
       " ['F07', '60', 'labetalol'],\n",
       " ['D02', '19', 'carvedilol'],\n",
       " ['G05', '66', 'mephentermine'],\n",
       " ['C02', '80', 'nefazodone'],\n",
       " ['C07', '124', 'trimipramine'],\n",
       " ['F02', '43', 'doxazosin']]"
      ]
     },
     "execution_count": 24,
     "metadata": {},
     "output_type": "execute_result"
    }
   ],
   "source": [
    "adrenaline"
   ]
  },
  {
   "cell_type": "code",
   "execution_count": 25,
   "metadata": {},
   "outputs": [
    {
     "data": {
      "text/plain": [
       "[['F06', '32', 'cyclizine'],\n",
       " ['C10', '38', 'dimenhydrinate'],\n",
       " ['B03', '34', 'cyproheptadine'],\n",
       " ['C06', '64', 'loratadine'],\n",
       " ['B04', '45', 'doxylamine'],\n",
       " ['B11', '82', 'olopatadine'],\n",
       " ['E04', '56', 'hydroxyzine'],\n",
       " ['E03', '83', 'orphenadrine'],\n",
       " ['C04', '27', 'cinnarizine'],\n",
       " ['D08', '36', 'desloratadine'],\n",
       " ['G11', '22', 'chlorcyclizine'],\n",
       " ['G02', '123', 'trimeprazine'],\n",
       " ['E10', '72', 'mianserin'],\n",
       " ['E07', '48', 'fexofenadine'],\n",
       " ['F08', '24', 'chlorpheniramine'],\n",
       " ['E09', '126', 'triprolidine'],\n",
       " ['D03', '35', 'desipramine'],\n",
       " ['D04', '61', 'levocabastine'],\n",
       " ['G04', '39', 'diphenhydramine'],\n",
       " ['B10', '40', 'diphenylpyraline'],\n",
       " ['C08', '46', 'emedastine'],\n",
       " ['E05', '21', 'cetirizine'],\n",
       " ['E11', '125', 'tripelennamine'],\n",
       " ['B07', '44', 'doxepin'],\n",
       " ['B02', '23', 'chloropyramine'],\n",
       " ['G06', '49', 'flunarizine'],\n",
       " ['C05', '59', 'ketotifen']]"
      ]
     },
     "execution_count": 25,
     "metadata": {},
     "output_type": "execute_result"
    }
   ],
   "source": [
    "histamine = [l for i in hrh for l in lis if i in l]\n",
    "histamine"
   ]
  },
  {
   "cell_type": "code",
   "execution_count": 28,
   "metadata": {},
   "outputs": [],
   "source": [
    "d = 'DMSO'\n",
    "control = [i for i in lis if d in i]"
   ]
  },
  {
   "cell_type": "code",
   "execution_count": 30,
   "metadata": {},
   "outputs": [
    {
     "data": {
      "text/plain": [
       "[['B06', '{\\\\dotuline {\\\\tiny DMSO}}', 'DMSO'],\n",
       " ['B09', '{\\\\dotuline {\\\\tiny DMSO}}', 'DMSO'],\n",
       " ['C11', '{\\\\dotuline {\\\\tiny DMSO}}', 'DMSO'],\n",
       " ['D10', '{\\\\dotuline {\\\\tiny DMSO}}', 'DMSO'],\n",
       " ['E02', '{\\\\dotuline {\\\\tiny DMSO}}', 'DMSO'],\n",
       " ['E08', '{\\\\dotuline {\\\\tiny DMSO}}', 'DMSO'],\n",
       " ['F04', '{\\\\dotuline {\\\\tiny DMSO}}', 'DMSO'],\n",
       " ['F05', '{\\\\dotuline {\\\\tiny DMSO}}', 'DMSO'],\n",
       " ['G08', '{\\\\dotuline {\\\\tiny DMSO}}', 'DMSO']]"
      ]
     },
     "execution_count": 30,
     "metadata": {},
     "output_type": "execute_result"
    }
   ],
   "source": [
    "control"
   ]
  },
  {
   "cell_type": "code",
   "execution_count": 35,
   "metadata": {},
   "outputs": [],
   "source": [
    "well_a, *_ = zip(*adrenaline)\n",
    "well_h, *_ = zip(*histamine)\n",
    "well_d, *_ = zip(*control)"
   ]
  },
  {
   "cell_type": "code",
   "execution_count": 37,
   "metadata": {},
   "outputs": [
    {
     "data": {
      "text/plain": [
       "('F06',\n",
       " 'C10',\n",
       " 'B03',\n",
       " 'C06',\n",
       " 'B04',\n",
       " 'B11',\n",
       " 'E04',\n",
       " 'E03',\n",
       " 'C04',\n",
       " 'D08',\n",
       " 'G11',\n",
       " 'G02',\n",
       " 'E10',\n",
       " 'E07',\n",
       " 'F08',\n",
       " 'E09',\n",
       " 'D03',\n",
       " 'D04',\n",
       " 'G04',\n",
       " 'B10',\n",
       " 'C08',\n",
       " 'E05',\n",
       " 'E11',\n",
       " 'B07',\n",
       " 'B02',\n",
       " 'G06',\n",
       " 'C05')"
      ]
     },
     "execution_count": 37,
     "metadata": {},
     "output_type": "execute_result"
    }
   ],
   "source": [
    "well_h"
   ]
  },
  {
   "cell_type": "code",
   "execution_count": null,
   "metadata": {},
   "outputs": [],
   "source": []
  }
 ],
 "metadata": {
  "kernelspec": {
   "display_name": "Python 3",
   "language": "python",
   "name": "python3"
  },
  "language_info": {
   "codemirror_mode": {
    "name": "ipython",
    "version": 3
   },
   "file_extension": ".py",
   "mimetype": "text/x-python",
   "name": "python",
   "nbconvert_exporter": "python",
   "pygments_lexer": "ipython3",
   "version": "3.6.9"
  }
 },
 "nbformat": 4,
 "nbformat_minor": 4
}
