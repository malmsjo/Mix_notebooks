{
 "cells": [
  {
   "cell_type": "code",
   "execution_count": 2,
   "metadata": {},
   "outputs": [],
   "source": [
    "import pandas as pd"
   ]
  },
  {
   "cell_type": "code",
   "execution_count": 3,
   "metadata": {},
   "outputs": [],
   "source": [
    "df = pd.read_csv('VictorParentCopy1.csv')"
   ]
  },
  {
   "cell_type": "code",
   "execution_count": 4,
   "metadata": {},
   "outputs": [],
   "source": [
    "df.drop(columns = ['plateID','compoundID', 'batchNr','VOLnl','CONCmM'], inplace=True)"
   ]
  },
  {
   "cell_type": "code",
   "execution_count": 5,
   "metadata": {},
   "outputs": [],
   "source": [
    "hrh = ['clemastine',\n",
    "    'cyclizine',\n",
    "    'dimenhydrinate',\n",
    "    'cyproheptadine',\n",
    "    'loratadine',\n",
    "    'doxylamine',\n",
    "    'olopatadine',\n",
    "    'histamine',\n",
    "    'hydroxyzine',\n",
    "    'orphenadrine',\n",
    "    'cinnarizine',\n",
    "    'rupatadine',\n",
    "    'bepotastine',\n",
    "    'desloratadine',\n",
    "    'chlorcyclizine',\n",
    "    'trimeprazine',\n",
    "    'mianserin',\n",
    "    'fexofenadine',\n",
    "    'chlorpheniramine',\n",
    "    'triprolidine',\n",
    "    'desipramine',\n",
    "    'levocabastine',\n",
    "    'diphenhydramine',\n",
    "    'diphenylpyraline',\n",
    "    'emedastine',\n",
    "    'cetirizine',\n",
    "    'tripelennamine',\n",
    "    'doxepin',\n",
    "    'chloropyramine',\n",
    "    'flunarizine',\n",
    "    'ketotifen']\n",
    "\n"
   ]
  },
  {
   "cell_type": "code",
   "execution_count": 6,
   "metadata": {},
   "outputs": [],
   "source": [
    "a = 'methoxamine midodrine oxymetazoline phenylephrine naphazoline dipivefrin metaraminol labetalol carvedilol mephentermine droxidopa nefazodone trimipramine doxazosin'\n",
    "\n",
    "adr = a.split(' ')\n",
    "\n"
   ]
  },
  {
   "cell_type": "code",
   "execution_count": 7,
   "metadata": {},
   "outputs": [],
   "source": [
    "lis = df.values.tolist()"
   ]
  },
  {
   "cell_type": "code",
   "execution_count": 8,
   "metadata": {},
   "outputs": [],
   "source": [
    "adrenaline = [l for i in adr for l in lis if i in l]"
   ]
  },
  {
   "cell_type": "code",
   "execution_count": 9,
   "metadata": {},
   "outputs": [
    {
     "data": {
      "text/plain": [
       "[['F10', '69', 'methoxamine'],\n",
       " ['D05', '73', 'midodrine'],\n",
       " ['F06', '85', 'oxymetazoline'],\n",
       " ['B03', '79', 'naphazoline'],\n",
       " ['F02', '41', 'dipivefrin'],\n",
       " ['B07', '68', 'metaraminol'],\n",
       " ['D10', '60', 'labetalol'],\n",
       " ['G02', '19', 'carvedilol'],\n",
       " ['B11', '66', 'mephentermine'],\n",
       " ['C10', '80', 'nefazodone'],\n",
       " ['B02', '124', 'trimipramine'],\n",
       " ['F08', '43', 'doxazosin']]"
      ]
     },
     "execution_count": 9,
     "metadata": {},
     "output_type": "execute_result"
    }
   ],
   "source": [
    "adrenaline"
   ]
  },
  {
   "cell_type": "code",
   "execution_count": 9,
   "metadata": {},
   "outputs": [
    {
     "data": {
      "text/plain": [
       "[['C04', '32', 'cyclizine'],\n",
       " ['F07', '38', 'dimenhydrinate'],\n",
       " ['G09', '34', 'cyproheptadine'],\n",
       " ['E05', '64', 'loratadine'],\n",
       " ['D04', '45', 'doxylamine'],\n",
       " ['E02', '82', 'olopatadine'],\n",
       " ['F05', '56', 'hydroxyzine'],\n",
       " ['E07', '83', 'orphenadrine'],\n",
       " ['B10', '27', 'cinnarizine'],\n",
       " ['F03', '36', 'desloratadine'],\n",
       " ['D02', '22', 'chlorcyclizine'],\n",
       " ['E09', '123', 'trimeprazine'],\n",
       " ['E08', '72', 'mianserin'],\n",
       " ['B05', '48', 'fexofenadine'],\n",
       " ['E03', '24', 'chlorpheniramine'],\n",
       " ['C05', '126', 'triprolidine'],\n",
       " ['E04', '35', 'desipramine'],\n",
       " ['C03', '61', 'levocabastine'],\n",
       " ['C07', '39', 'diphenhydramine'],\n",
       " ['F11', '40', 'diphenylpyraline'],\n",
       " ['G06', '46', 'emedastine'],\n",
       " ['D11', '21', 'cetirizine'],\n",
       " ['F09', '125', 'tripelennamine'],\n",
       " ['C02', '44', 'doxepin'],\n",
       " ['D06', '23', 'chloropyramine'],\n",
       " ['C09', '49', 'flunarizine'],\n",
       " ['D07', '59', 'ketotifen']]"
      ]
     },
     "execution_count": 9,
     "metadata": {},
     "output_type": "execute_result"
    }
   ],
   "source": [
    "histamine = [l for i in hrh for l in lis if i in l]\n",
    "histamine"
   ]
  },
  {
   "cell_type": "code",
   "execution_count": 10,
   "metadata": {},
   "outputs": [],
   "source": [
    "d = 'DMSO'\n",
    "control = [i for i in lis if d in i]"
   ]
  },
  {
   "cell_type": "code",
   "execution_count": 11,
   "metadata": {},
   "outputs": [
    {
     "data": {
      "text/plain": [
       "[['B09', '{\\\\dotuline {\\\\tiny DMSO}}', 'DMSO'],\n",
       " ['C06', '{\\\\dotuline {\\\\tiny DMSO}}', 'DMSO'],\n",
       " ['C11', '{\\\\dotuline {\\\\tiny DMSO}}', 'DMSO'],\n",
       " ['D03', '{\\\\dotuline {\\\\tiny DMSO}}', 'DMSO'],\n",
       " ['E06', '{\\\\dotuline {\\\\tiny DMSO}}', 'DMSO'],\n",
       " ['E10', '{\\\\dotuline {\\\\tiny DMSO}}', 'DMSO'],\n",
       " ['G04', '{\\\\dotuline {\\\\tiny DMSO}}', 'DMSO'],\n",
       " ['G10', '{\\\\dotuline {\\\\tiny DMSO}}', 'DMSO'],\n",
       " ['G11', '{\\\\dotuline {\\\\tiny DMSO}}', 'DMSO']]"
      ]
     },
     "execution_count": 11,
     "metadata": {},
     "output_type": "execute_result"
    }
   ],
   "source": [
    "control"
   ]
  },
  {
   "cell_type": "code",
   "execution_count": 15,
   "metadata": {},
   "outputs": [],
   "source": [
    "well_a, _, n_a = zip(*adrenaline)\n",
    "well_h, _, n_h = zip(*histamine)\n",
    "well_d, _, n_d = zip(*control)"
   ]
  },
  {
   "cell_type": "code",
   "execution_count": 17,
   "metadata": {},
   "outputs": [
    {
     "data": {
      "text/plain": [
       "(('B09', 'C06', 'C11', 'D03', 'E06', 'E10', 'G04', 'G10', 'G11'),\n",
       " ('DMSO', 'DMSO', 'DMSO', 'DMSO', 'DMSO', 'DMSO', 'DMSO', 'DMSO', 'DMSO'))"
      ]
     },
     "execution_count": 17,
     "metadata": {},
     "output_type": "execute_result"
    }
   ],
   "source": [
    "well_d, n_d"
   ]
  },
  {
   "cell_type": "code",
   "execution_count": 10,
   "metadata": {},
   "outputs": [
    {
     "ename": "NameError",
     "evalue": "name 'well_a' is not defined",
     "output_type": "error",
     "traceback": [
      "\u001b[0;31m---------------------------------------------------------------------------\u001b[0m",
      "\u001b[0;31mNameError\u001b[0m                                 Traceback (most recent call last)",
      "\u001b[0;32m<ipython-input-10-46d155123817>\u001b[0m in \u001b[0;36m<module>\u001b[0;34m\u001b[0m\n\u001b[0;32m----> 1\u001b[0;31m \u001b[0madr\u001b[0m \u001b[0;34m=\u001b[0m \u001b[0mlist\u001b[0m \u001b[0;34m(\u001b[0m\u001b[0mzip\u001b[0m\u001b[0;34m(\u001b[0m\u001b[0mwell_a\u001b[0m\u001b[0;34m,\u001b[0m \u001b[0mn_a\u001b[0m\u001b[0;34m)\u001b[0m\u001b[0;34m)\u001b[0m\u001b[0;34m\u001b[0m\u001b[0;34m\u001b[0m\u001b[0m\n\u001b[0m\u001b[1;32m      2\u001b[0m \u001b[0mhrh\u001b[0m \u001b[0;34m=\u001b[0m \u001b[0mlist\u001b[0m\u001b[0;34m(\u001b[0m\u001b[0mzip\u001b[0m\u001b[0;34m(\u001b[0m\u001b[0mn_h\u001b[0m\u001b[0;34m,\u001b[0m \u001b[0mwell_h\u001b[0m\u001b[0;34m)\u001b[0m\u001b[0;34m)\u001b[0m\u001b[0;34m\u001b[0m\u001b[0;34m\u001b[0m\u001b[0m\n\u001b[1;32m      3\u001b[0m \u001b[0mdmso\u001b[0m \u001b[0;34m=\u001b[0m \u001b[0mlist\u001b[0m\u001b[0;34m(\u001b[0m\u001b[0mzip\u001b[0m\u001b[0;34m(\u001b[0m\u001b[0mwell_d\u001b[0m\u001b[0;34m,\u001b[0m \u001b[0mn_d\u001b[0m\u001b[0;34m)\u001b[0m\u001b[0;34m)\u001b[0m\u001b[0;34m\u001b[0m\u001b[0;34m\u001b[0m\u001b[0m\n",
      "\u001b[0;31mNameError\u001b[0m: name 'well_a' is not defined"
     ]
    }
   ],
   "source": [
    "adr = list (zip(well_a, n_a))\n",
    "hrh = list(zip(n_h, well_h))\n",
    "dmso = list(zip(well_d, n_d))"
   ]
  },
  {
   "cell_type": "code",
   "execution_count": 11,
   "metadata": {},
   "outputs": [
    {
     "ename": "NameError",
     "evalue": "name 'well_a' is not defined",
     "output_type": "error",
     "traceback": [
      "\u001b[0;31m---------------------------------------------------------------------------\u001b[0m",
      "\u001b[0;31mNameError\u001b[0m                                 Traceback (most recent call last)",
      "\u001b[0;32m<ipython-input-11-6b5d5e36f3f8>\u001b[0m in \u001b[0;36m<module>\u001b[0;34m\u001b[0m\n\u001b[0;32m----> 1\u001b[0;31m \u001b[0mwell_a\u001b[0m\u001b[0;34m\u001b[0m\u001b[0;34m\u001b[0m\u001b[0m\n\u001b[0m",
      "\u001b[0;31mNameError\u001b[0m: name 'well_a' is not defined"
     ]
    }
   ],
   "source": [
    "well_a"
   ]
  },
  {
   "cell_type": "code",
   "execution_count": null,
   "metadata": {},
   "outputs": [],
   "source": []
  }
 ],
 "metadata": {
  "kernelspec": {
   "display_name": "Python 3",
   "language": "python",
   "name": "python3"
  },
  "language_info": {
   "codemirror_mode": {
    "name": "ipython",
    "version": 3
   },
   "file_extension": ".py",
   "mimetype": "text/x-python",
   "name": "python",
   "nbconvert_exporter": "python",
   "pygments_lexer": "ipython3",
   "version": "3.6.9"
  }
 },
 "nbformat": 4,
 "nbformat_minor": 4
}
