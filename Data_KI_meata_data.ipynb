{
 "cells": [
  {
   "cell_type": "code",
   "execution_count": 2,
   "metadata": {},
   "outputs": [],
   "source": [
    "import pandas as pd"
   ]
  },
  {
   "cell_type": "code",
   "execution_count": 5,
   "metadata": {},
   "outputs": [],
   "source": [
    "p_0 = pd.read_excel('/home/jovyan/Data_KI.xlsx', sheet_name=0)\n",
    "p_0.drop(columns = ['Mechanism/Targets','High.phase/Approval.status','Res..code','Alias','activity.modifier'], inplace = True)"
   ]
  },
  {
   "cell_type": "code",
   "execution_count": 19,
   "metadata": {},
   "outputs": [
    {
     "data": {
      "text/html": [
       "<div>\n",
       "<style scoped>\n",
       "    .dataframe tbody tr th:only-of-type {\n",
       "        vertical-align: middle;\n",
       "    }\n",
       "\n",
       "    .dataframe tbody tr th {\n",
       "        vertical-align: top;\n",
       "    }\n",
       "\n",
       "    .dataframe thead th {\n",
       "        text-align: right;\n",
       "    }\n",
       "</style>\n",
       "<table border=\"1\" class=\"dataframe\">\n",
       "  <thead>\n",
       "    <tr style=\"text-align: right;\">\n",
       "      <th></th>\n",
       "      <th>Drug_NAME</th>\n",
       "      <th>Class.explained</th>\n",
       "    </tr>\n",
       "  </thead>\n",
       "  <tbody>\n",
       "    <tr>\n",
       "      <th>0</th>\n",
       "      <td>Dactinomycin</td>\n",
       "      <td>A. Conv. Chemo</td>\n",
       "    </tr>\n",
       "    <tr>\n",
       "      <th>1</th>\n",
       "      <td>AVN944</td>\n",
       "      <td>H. Metabolic modifier</td>\n",
       "    </tr>\n",
       "    <tr>\n",
       "      <th>3</th>\n",
       "      <td>8-chloro-adenosine</td>\n",
       "      <td>A. Conv. Chemo</td>\n",
       "    </tr>\n",
       "    <tr>\n",
       "      <th>4</th>\n",
       "      <td>Brequinar</td>\n",
       "      <td>E. Differentiating/ epigenetic modifier</td>\n",
       "    </tr>\n",
       "    <tr>\n",
       "      <th>5</th>\n",
       "      <td>BMS-599626</td>\n",
       "      <td>B. Kinase inhibitor</td>\n",
       "    </tr>\n",
       "    <tr>\n",
       "      <th>...</th>\n",
       "      <td>...</td>\n",
       "      <td>...</td>\n",
       "    </tr>\n",
       "    <tr>\n",
       "      <th>484</th>\n",
       "      <td>BMS863233</td>\n",
       "      <td>B. Kinase inhibitor</td>\n",
       "    </tr>\n",
       "    <tr>\n",
       "      <th>485</th>\n",
       "      <td>Oxaliplatin</td>\n",
       "      <td>A. Conv. Chemo</td>\n",
       "    </tr>\n",
       "    <tr>\n",
       "      <th>486</th>\n",
       "      <td>Plerixafor</td>\n",
       "      <td>X. Other</td>\n",
       "    </tr>\n",
       "    <tr>\n",
       "      <th>487</th>\n",
       "      <td>Valproic acid</td>\n",
       "      <td>E. Differentiating/ epigenetic modifier</td>\n",
       "    </tr>\n",
       "    <tr>\n",
       "      <th>488</th>\n",
       "      <td>Metformin</td>\n",
       "      <td>H. Metabolic modifier</td>\n",
       "    </tr>\n",
       "  </tbody>\n",
       "</table>\n",
       "<p>469 rows × 2 columns</p>\n",
       "</div>"
      ],
      "text/plain": [
       "              Drug_NAME                          Class.explained\n",
       "0          Dactinomycin                           A. Conv. Chemo\n",
       "1                AVN944                    H. Metabolic modifier\n",
       "3    8-chloro-adenosine                           A. Conv. Chemo\n",
       "4             Brequinar  E. Differentiating/ epigenetic modifier\n",
       "5            BMS-599626                      B. Kinase inhibitor\n",
       "..                  ...                                      ...\n",
       "484           BMS863233                      B. Kinase inhibitor\n",
       "485         Oxaliplatin                           A. Conv. Chemo\n",
       "486          Plerixafor                                 X. Other\n",
       "487       Valproic acid  E. Differentiating/ epigenetic modifier\n",
       "488           Metformin                    H. Metabolic modifier\n",
       "\n",
       "[469 rows x 2 columns]"
      ]
     },
     "execution_count": 19,
     "metadata": {},
     "output_type": "execute_result"
    }
   ],
   "source": [
    "p_0.dropna(inplace = True)\n",
    "p_0"
   ]
  },
  {
   "cell_type": "code",
   "execution_count": 20,
   "metadata": {},
   "outputs": [],
   "source": [
    "clas = [i for i in p_0['Class.explained'].values]"
   ]
  },
  {
   "cell_type": "code",
   "execution_count": 21,
   "metadata": {},
   "outputs": [
    {
     "data": {
      "text/plain": [
       "469"
      ]
     },
     "execution_count": 21,
     "metadata": {},
     "output_type": "execute_result"
    }
   ],
   "source": [
    "len(clas)"
   ]
  },
  {
   "cell_type": "code",
   "execution_count": 24,
   "metadata": {},
   "outputs": [
    {
     "data": {
      "text/plain": [
       "14"
      ]
     },
     "execution_count": 24,
     "metadata": {},
     "output_type": "execute_result"
    }
   ],
   "source": [
    "len(set(clas))"
   ]
  },
  {
   "cell_type": "code",
   "execution_count": 26,
   "metadata": {},
   "outputs": [
    {
     "data": {
      "text/html": [
       "<div>\n",
       "<style scoped>\n",
       "    .dataframe tbody tr th:only-of-type {\n",
       "        vertical-align: middle;\n",
       "    }\n",
       "\n",
       "    .dataframe tbody tr th {\n",
       "        vertical-align: top;\n",
       "    }\n",
       "\n",
       "    .dataframe thead th {\n",
       "        text-align: right;\n",
       "    }\n",
       "</style>\n",
       "<table border=\"1\" class=\"dataframe\">\n",
       "  <thead>\n",
       "    <tr style=\"text-align: right;\">\n",
       "      <th></th>\n",
       "      <th>Drug_NAME</th>\n",
       "      <th>Class.explained</th>\n",
       "    </tr>\n",
       "  </thead>\n",
       "  <tbody>\n",
       "    <tr>\n",
       "      <th>0</th>\n",
       "      <td>Dactinomycin</td>\n",
       "      <td>A. Conv. Chemo</td>\n",
       "    </tr>\n",
       "    <tr>\n",
       "      <th>110</th>\n",
       "      <td>Paclitaxel</td>\n",
       "      <td>A. Conv. Chemo</td>\n",
       "    </tr>\n",
       "    <tr>\n",
       "      <th>109</th>\n",
       "      <td>Docetaxel</td>\n",
       "      <td>A. Conv. Chemo</td>\n",
       "    </tr>\n",
       "    <tr>\n",
       "      <th>455</th>\n",
       "      <td>Bleomycin</td>\n",
       "      <td>A. Conv. Chemo</td>\n",
       "    </tr>\n",
       "    <tr>\n",
       "      <th>152</th>\n",
       "      <td>Mercaptopurine</td>\n",
       "      <td>A. Conv. Chemo</td>\n",
       "    </tr>\n",
       "    <tr>\n",
       "      <th>289</th>\n",
       "      <td>Pixantrone</td>\n",
       "      <td>A. Conv. Chemo</td>\n",
       "    </tr>\n",
       "    <tr>\n",
       "      <th>478</th>\n",
       "      <td>Carboplatin</td>\n",
       "      <td>A. Conv. Chemo</td>\n",
       "    </tr>\n",
       "    <tr>\n",
       "      <th>186</th>\n",
       "      <td>Trifluridine</td>\n",
       "      <td>A. Conv. Chemo</td>\n",
       "    </tr>\n",
       "    <tr>\n",
       "      <th>184</th>\n",
       "      <td>Thioguanine</td>\n",
       "      <td>A. Conv. Chemo</td>\n",
       "    </tr>\n",
       "    <tr>\n",
       "      <th>11</th>\n",
       "      <td>Hydroxyurea</td>\n",
       "      <td>A. Conv. Chemo</td>\n",
       "    </tr>\n",
       "    <tr>\n",
       "      <th>112</th>\n",
       "      <td>Capecitabine</td>\n",
       "      <td>A. Conv. Chemo</td>\n",
       "    </tr>\n",
       "    <tr>\n",
       "      <th>19</th>\n",
       "      <td>Indibulin</td>\n",
       "      <td>A. Conv. Chemo</td>\n",
       "    </tr>\n",
       "    <tr>\n",
       "      <th>18</th>\n",
       "      <td>Idarubicin</td>\n",
       "      <td>A. Conv. Chemo</td>\n",
       "    </tr>\n",
       "    <tr>\n",
       "      <th>181</th>\n",
       "      <td>Mitotane</td>\n",
       "      <td>A. Conv. Chemo</td>\n",
       "    </tr>\n",
       "    <tr>\n",
       "      <th>176</th>\n",
       "      <td>Allopurinol</td>\n",
       "      <td>A. Conv. Chemo</td>\n",
       "    </tr>\n",
       "    <tr>\n",
       "      <th>34</th>\n",
       "      <td>Amsacrine</td>\n",
       "      <td>A. Conv. Chemo</td>\n",
       "    </tr>\n",
       "    <tr>\n",
       "      <th>188</th>\n",
       "      <td>Teniposide</td>\n",
       "      <td>A. Conv. Chemo</td>\n",
       "    </tr>\n",
       "    <tr>\n",
       "      <th>3</th>\n",
       "      <td>8-chloro-adenosine</td>\n",
       "      <td>A. Conv. Chemo</td>\n",
       "    </tr>\n",
       "    <tr>\n",
       "      <th>485</th>\n",
       "      <td>Oxaliplatin</td>\n",
       "      <td>A. Conv. Chemo</td>\n",
       "    </tr>\n",
       "    <tr>\n",
       "      <th>190</th>\n",
       "      <td>Hydroxyurea</td>\n",
       "      <td>A. Conv. Chemo</td>\n",
       "    </tr>\n",
       "  </tbody>\n",
       "</table>\n",
       "</div>"
      ],
      "text/plain": [
       "              Drug_NAME Class.explained\n",
       "0          Dactinomycin  A. Conv. Chemo\n",
       "110          Paclitaxel  A. Conv. Chemo\n",
       "109           Docetaxel  A. Conv. Chemo\n",
       "455           Bleomycin  A. Conv. Chemo\n",
       "152      Mercaptopurine  A. Conv. Chemo\n",
       "289          Pixantrone  A. Conv. Chemo\n",
       "478         Carboplatin  A. Conv. Chemo\n",
       "186        Trifluridine  A. Conv. Chemo\n",
       "184         Thioguanine  A. Conv. Chemo\n",
       "11          Hydroxyurea  A. Conv. Chemo\n",
       "112        Capecitabine  A. Conv. Chemo\n",
       "19            Indibulin  A. Conv. Chemo\n",
       "18           Idarubicin  A. Conv. Chemo\n",
       "181            Mitotane  A. Conv. Chemo\n",
       "176         Allopurinol  A. Conv. Chemo\n",
       "34            Amsacrine  A. Conv. Chemo\n",
       "188          Teniposide  A. Conv. Chemo\n",
       "3    8-chloro-adenosine  A. Conv. Chemo\n",
       "485         Oxaliplatin  A. Conv. Chemo\n",
       "190         Hydroxyurea  A. Conv. Chemo"
      ]
     },
     "execution_count": 26,
     "metadata": {},
     "output_type": "execute_result"
    }
   ],
   "source": [
    "p_0.sort_values(['Class.explained'], inplace = True)\n",
    "p_0.head(20)"
   ]
  },
  {
   "cell_type": "code",
   "execution_count": null,
   "metadata": {},
   "outputs": [],
   "source": []
  }
 ],
 "metadata": {
  "kernelspec": {
   "display_name": "Python 3",
   "language": "python",
   "name": "python3"
  },
  "language_info": {
   "codemirror_mode": {
    "name": "ipython",
    "version": 3
   },
   "file_extension": ".py",
   "mimetype": "text/x-python",
   "name": "python",
   "nbconvert_exporter": "python",
   "pygments_lexer": "ipython3",
   "version": "3.6.9"
  }
 },
 "nbformat": 4,
 "nbformat_minor": 4
}
