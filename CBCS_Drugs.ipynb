{
 "cells": [
  {
   "cell_type": "code",
   "execution_count": 1,
   "metadata": {},
   "outputs": [],
   "source": [
    "import pandas as pd"
   ]
  },
  {
   "cell_type": "code",
   "execution_count": 2,
   "metadata": {},
   "outputs": [],
   "source": [
    "vic_comp = pd.read_excel('Others/CBCS Librarys/Compounds_victor.xlsx')"
   ]
  },
  {
   "cell_type": "code",
   "execution_count": 3,
   "metadata": {},
   "outputs": [],
   "source": [
    "list_names = vic_comp['NAME'].to_list()"
   ]
  },
  {
   "cell_type": "code",
   "execution_count": 4,
   "metadata": {},
   "outputs": [
    {
     "data": {
      "text/plain": [
       "['Cytochalasin b',\n",
       " 'Cytochalasin d',\n",
       " 'Latrunculin b',\n",
       " 'Az-a',\n",
       " 'Az258',\n",
       " 'Az841',\n",
       " 'Mevinolin/lovastatin',\n",
       " 'Simvastatin',\n",
       " 'Chlorambucil',\n",
       " 'Cisplatin',\n",
       " 'Etoposide',\n",
       " 'Mitomycin c',\n",
       " 'Camptothecin',\n",
       " 'Floxuridine',\n",
       " 'Methotrexate',\n",
       " 'Mitoxantrone',\n",
       " 'Az-c',\n",
       " 'Az138',\n",
       " 'Az-j',\n",
       " 'Az-u',\n",
       " 'Pp-2',\n",
       " 'Alsterpaullone',\n",
       " 'Bryostatin',\n",
       " 'Pd-169316',\n",
       " 'Colchicine',\n",
       " 'Demecolcine',\n",
       " 'Nocodazole',\n",
       " 'Vincristine',\n",
       " 'Docetaxel',\n",
       " 'Epothilone b',\n",
       " 'Taxol',\n",
       " 'Alln',\n",
       " 'Lactacystin',\n",
       " 'Mg-132',\n",
       " 'Proteasome inhibitor i',\n",
       " 'Anisomycin',\n",
       " 'Cyclohexamide',\n",
       " 'Emetine']"
      ]
     },
     "execution_count": 4,
     "metadata": {},
     "output_type": "execute_result"
    }
   ],
   "source": [
    "names = [i.capitalize() for i in list_names]\n",
    "names"
   ]
  },
  {
   "cell_type": "code",
   "execution_count": 5,
   "metadata": {},
   "outputs": [],
   "source": [
    "#FOR PRESTWICK LIB\n",
    "\n",
    "p_1 = pd.read_excel('Others/CBCS Librarys/Prestwick_known_drugs.xlsx', sheet_name=1)\n",
    "p_2 = pd.read_excel('Others/CBCS Librarys/Prestwick_known_drugs.xlsx', sheet_name=2)"
   ]
  },
  {
   "cell_type": "code",
   "execution_count": 6,
   "metadata": {},
   "outputs": [
    {
     "data": {
      "text/html": [
       "<div>\n",
       "<style scoped>\n",
       "    .dataframe tbody tr th:only-of-type {\n",
       "        vertical-align: middle;\n",
       "    }\n",
       "\n",
       "    .dataframe tbody tr th {\n",
       "        vertical-align: top;\n",
       "    }\n",
       "\n",
       "    .dataframe thead th {\n",
       "        text-align: right;\n",
       "    }\n",
       "</style>\n",
       "<table border=\"1\" class=\"dataframe\">\n",
       "  <thead>\n",
       "    <tr style=\"text-align: right;\">\n",
       "      <th></th>\n",
       "      <th>Structure</th>\n",
       "      <th>Isis_internal_number</th>\n",
       "      <th>compound_identifier</th>\n",
       "      <th>chemical_name</th>\n",
       "      <th>CAS_number</th>\n",
       "      <th>family</th>\n",
       "      <th>smiles_code</th>\n",
       "      <th>Compound_identifying_number</th>\n",
       "      <th>Structurale_Source</th>\n",
       "      <th>rotatable_bond</th>\n",
       "      <th>...</th>\n",
       "      <th>pharmacokinetic_notes</th>\n",
       "      <th>alpha_d_value</th>\n",
       "      <th>alpha_d_concentration</th>\n",
       "      <th>alpha_d_solvant</th>\n",
       "      <th>alpha_d_temperature</th>\n",
       "      <th>boiling_point</th>\n",
       "      <th>density</th>\n",
       "      <th>half_time_life</th>\n",
       "      <th>T_max</th>\n",
       "      <th>protein_binding</th>\n",
       "    </tr>\n",
       "  </thead>\n",
       "  <tbody>\n",
       "    <tr>\n",
       "      <th>0</th>\n",
       "      <td>NaN</td>\n",
       "      <td>40</td>\n",
       "      <td>01A02</td>\n",
       "      <td>Azaguanine-8</td>\n",
       "      <td>134-58-7</td>\n",
       "      <td>PHA</td>\n",
       "      <td>c12/N=C(\\NC(c1nn[nH]2)=O)/N</td>\n",
       "      <td>1</td>\n",
       "      <td>MDL Database</td>\n",
       "      <td>0.0</td>\n",
       "      <td>...</td>\n",
       "      <td>NaN</td>\n",
       "      <td>NaN</td>\n",
       "      <td>NaN</td>\n",
       "      <td>NaN</td>\n",
       "      <td>NaN</td>\n",
       "      <td>NaN</td>\n",
       "      <td>NaN</td>\n",
       "      <td>NaN</td>\n",
       "      <td>NaN</td>\n",
       "      <td>NaN</td>\n",
       "    </tr>\n",
       "    <tr>\n",
       "      <th>1</th>\n",
       "      <td>NaN</td>\n",
       "      <td>1332</td>\n",
       "      <td>01A03</td>\n",
       "      <td>Allantoin</td>\n",
       "      <td>97-59-6</td>\n",
       "      <td>MED</td>\n",
       "      <td>N1C(NC(C1=O)NC(=O)N)=O</td>\n",
       "      <td>2</td>\n",
       "      <td>MDL Database</td>\n",
       "      <td>2.0</td>\n",
       "      <td>...</td>\n",
       "      <td>NaN</td>\n",
       "      <td>NaN</td>\n",
       "      <td>NaN</td>\n",
       "      <td>NaN</td>\n",
       "      <td>NaN</td>\n",
       "      <td>NaN</td>\n",
       "      <td>NaN</td>\n",
       "      <td>NaN</td>\n",
       "      <td>NaN</td>\n",
       "      <td>NaN</td>\n",
       "    </tr>\n",
       "    <tr>\n",
       "      <th>2</th>\n",
       "      <td>NaN</td>\n",
       "      <td>4</td>\n",
       "      <td>01A04</td>\n",
       "      <td>Acetazolamide</td>\n",
       "      <td>59-66-5</td>\n",
       "      <td>MED</td>\n",
       "      <td>c1(S(=O)(=O)N)sc(nn1)NC(=O)C</td>\n",
       "      <td>3</td>\n",
       "      <td>MDL Database</td>\n",
       "      <td>3.0</td>\n",
       "      <td>...</td>\n",
       "      <td>NaN</td>\n",
       "      <td>NaN</td>\n",
       "      <td>NaN</td>\n",
       "      <td>NaN</td>\n",
       "      <td>NaN</td>\n",
       "      <td>NaN</td>\n",
       "      <td>NaN</td>\n",
       "      <td>NaN</td>\n",
       "      <td>NaN</td>\n",
       "      <td>NaN</td>\n",
       "    </tr>\n",
       "  </tbody>\n",
       "</table>\n",
       "<p>3 rows × 26 columns</p>\n",
       "</div>"
      ],
      "text/plain": [
       "   Structure  Isis_internal_number compound_identifier  chemical_name  \\\n",
       "0        NaN                    40               01A02   Azaguanine-8   \n",
       "1        NaN                  1332               01A03      Allantoin   \n",
       "2        NaN                     4               01A04  Acetazolamide   \n",
       "\n",
       "  CAS_number family                   smiles_code  \\\n",
       "0   134-58-7    PHA   c12/N=C(\\NC(c1nn[nH]2)=O)/N   \n",
       "1    97-59-6    MED        N1C(NC(C1=O)NC(=O)N)=O   \n",
       "2    59-66-5    MED  c1(S(=O)(=O)N)sc(nn1)NC(=O)C   \n",
       "\n",
       "   Compound_identifying_number Structurale_Source  rotatable_bond  ...  \\\n",
       "0                            1       MDL Database             0.0  ...   \n",
       "1                            2       MDL Database             2.0  ...   \n",
       "2                            3       MDL Database             3.0  ...   \n",
       "\n",
       "  pharmacokinetic_notes alpha_d_value  alpha_d_concentration  alpha_d_solvant  \\\n",
       "0                   NaN           NaN                    NaN              NaN   \n",
       "1                   NaN           NaN                    NaN              NaN   \n",
       "2                   NaN           NaN                    NaN              NaN   \n",
       "\n",
       "   alpha_d_temperature boiling_point density  half_time_life  T_max  \\\n",
       "0                  NaN           NaN     NaN             NaN    NaN   \n",
       "1                  NaN           NaN     NaN             NaN    NaN   \n",
       "2                  NaN           NaN     NaN             NaN    NaN   \n",
       "\n",
       "  protein_binding  \n",
       "0             NaN  \n",
       "1             NaN  \n",
       "2             NaN  \n",
       "\n",
       "[3 rows x 26 columns]"
      ]
     },
     "execution_count": 6,
     "metadata": {},
     "output_type": "execute_result"
    }
   ],
   "source": [
    "p_2.head(3)"
   ]
  },
  {
   "cell_type": "code",
   "execution_count": 8,
   "metadata": {},
   "outputs": [],
   "source": [
    "prest_1 = []\n",
    "prest_2 = []\n",
    "for i in names:\n",
    "    if i in p_1['Chemical name'].values:\n",
    "        prest_1.append(i)\n",
    "        \n",
    "    if i in p_2['chemical_name'].values:\n",
    "        prest_2.append(i)"
   ]
  },
  {
   "cell_type": "code",
   "execution_count": 9,
   "metadata": {},
   "outputs": [
    {
     "data": {
      "text/plain": [
       "(['Simvastatin',\n",
       "  'Chlorambucil',\n",
       "  'Etoposide',\n",
       "  'Floxuridine',\n",
       "  'Methotrexate',\n",
       "  'Colchicine',\n",
       "  'Nocodazole',\n",
       "  'Docetaxel'],\n",
       " ['Simvastatin',\n",
       "  'Chlorambucil',\n",
       "  'Etoposide',\n",
       "  'Floxuridine',\n",
       "  'Methotrexate',\n",
       "  'Colchicine',\n",
       "  'Nocodazole',\n",
       "  'Docetaxel'])"
      ]
     },
     "execution_count": 9,
     "metadata": {},
     "output_type": "execute_result"
    }
   ],
   "source": [
    "prest_1, prest_2"
   ]
  },
  {
   "cell_type": "code",
   "execution_count": 14,
   "metadata": {},
   "outputs": [],
   "source": [
    "t = []\n",
    "for i in prest_1:\n",
    "    t.append(p_1.index[p_1['Chemical name'] == i].tolist())"
   ]
  },
  {
   "cell_type": "code",
   "execution_count": 15,
   "metadata": {},
   "outputs": [],
   "source": [
    "id_t = [ j for i in t for j in i ]"
   ]
  },
  {
   "cell_type": "code",
   "execution_count": 16,
   "metadata": {
    "collapsed": true,
    "jupyter": {
     "outputs_hidden": true
    }
   },
   "outputs": [
    {
     "name": "stdout",
     "output_type": "stream",
     "text": [
      "Structure               [H][C@@]1(CC[C@@]2([H])[C@@H](C)C=CC3=C[C@H](C...\n",
      "Compound_id                                                     CBK200552\n",
      "BATCHID                                                         BA1000157\n",
      "Prestwick ID                                                   Prestw-865\n",
      "Chemical name                                                 Simvastatin\n",
      "Prestwick annotation                          HMG-CoA reductase inhibitor\n",
      "Therapeutic group                                      Antihyperlipidemic\n",
      "CAS_number                                                     79902-63-9\n",
      "Name: 616, dtype: object\n",
      "Structure               OC(=O)CCCC1=CC=C(C=C1)N(CCCl)CCCl\n",
      "Compound_id                                     CBK042130\n",
      "BATCHID                                         BA1000887\n",
      "Prestwick ID                                  Prestw-1079\n",
      "Chemical name                                Chlorambucil\n",
      "Prestwick annotation            DNA replication inhibitor\n",
      "Therapeutic group                          Antineoplastic\n",
      "CAS_number                                       305-03-3\n",
      "Name: 530, dtype: object\n",
      "Structure               [H][C@]12COC(=O)[C@]1([H])[C@H](C1=CC(OC)=C(O)...\n",
      "Compound_id                                                     CBK200566\n",
      "BATCHID                                                         BA1000190\n",
      "Prestwick ID                                                   Prestw-396\n",
      "Chemical name                                                   Etoposide\n",
      "Prestwick annotation                           Topoisomerase II inhibitor\n",
      "Therapeutic group                                          Antineoplastic\n",
      "CAS_number                                                     33419-42-0\n",
      "Name: 630, dtype: object\n",
      "Structure                     OC[C@H]1O[C@H](C[C@@H]1O)N1C=C(F)C(=O)NC1=O\n",
      "Compound_id                                                     CBK201031\n",
      "BATCHID                                                         BA1001135\n",
      "Prestwick ID                                                  Prestw-1415\n",
      "Chemical name                                                 Floxuridine\n",
      "Prestwick annotation    reproduction and growth of cancer cells inhibitor\n",
      "Therapeutic group                               antiviral, antineoplasmic\n",
      "CAS_number                                                        50-91-9\n",
      "Name: 1093, dtype: object\n",
      "Structure               CN(CC1=CN=C2N=C(N)N=C(N)C2=N1)C1=CC=C(C=C1)C(=...\n",
      "Compound_id                                                     CBK041938\n",
      "BATCHID                                                         BA1000282\n",
      "Prestwick ID                                                   Prestw-135\n",
      "Chemical name                                                Methotrexate\n",
      "Prestwick annotation                                                    0\n",
      "Therapeutic group                                             Anti-cancer\n",
      "CAS_number                                                        59-05-2\n",
      "Name: 453, dtype: object\n",
      "Structure               COC1=CC2=C(C(OC)=C1OC)C1=CC=C(OC)C(=O)C=C1[C@H...\n",
      "Compound_id                                                     CBK042052\n",
      "BATCHID                                                         BA1000524\n",
      "Prestwick ID                                                   Prestw-363\n",
      "Chemical name                                                  Colchicine\n",
      "Prestwick annotation                     Tubulin polymerisation inhibitor\n",
      "Therapeutic group                                        Antiinflammatory\n",
      "CAS_number                                                        64-86-8\n",
      "Name: 500, dtype: object\n",
      "Structure               COC(=O)NC1=NC2=CC(=CC=C2N1)C(=O)C1=CC=CS1\n",
      "Compound_id                                             CBK041184\n",
      "BATCHID                                                 BA1000310\n",
      "Prestwick ID                                           Prestw-100\n",
      "Chemical name                                          Nocodazole\n",
      "Prestwick annotation                           Microtubule poison\n",
      "Therapeutic group                                  Antineoplastic\n",
      "CAS_number                                             31430-18-9\n",
      "Name: 227, dtype: object\n",
      "Structure               [H][C@@]12C[C@H](O)[C@@]3(C)C(=O)[C@H](O)C4=C(...\n",
      "Compound_id                                                     CBK200619\n",
      "BATCHID                                                         BA1000319\n",
      "Prestwick ID                                                  Prestw-1180\n",
      "Chemical name                                                   Docetaxel\n",
      "Prestwick annotation            binds to microtubules\\nand blocks mitosis\n",
      "Therapeutic group                                          antineoplastic\n",
      "CAS_number                                                    114977-28-5\n",
      "Name: 682, dtype: object\n"
     ]
    }
   ],
   "source": [
    "for i in id_t:\n",
    "    print(p_1.iloc[i])"
   ]
  },
  {
   "cell_type": "code",
   "execution_count": 17,
   "metadata": {},
   "outputs": [],
   "source": [
    "#FOR TOCRIS\n",
    "\n",
    "t_1 = pd.read_excel('Others/CBCS Librarys/TOCRIS_mini.xlsx', sheet_name=2)"
   ]
  },
  {
   "cell_type": "code",
   "execution_count": 18,
   "metadata": {},
   "outputs": [
    {
     "data": {
      "text/html": [
       "<div>\n",
       "<style scoped>\n",
       "    .dataframe tbody tr th:only-of-type {\n",
       "        vertical-align: middle;\n",
       "    }\n",
       "\n",
       "    .dataframe tbody tr th {\n",
       "        vertical-align: top;\n",
       "    }\n",
       "\n",
       "    .dataframe thead th {\n",
       "        text-align: right;\n",
       "    }\n",
       "</style>\n",
       "<table border=\"1\" class=\"dataframe\">\n",
       "  <thead>\n",
       "    <tr style=\"text-align: right;\">\n",
       "      <th></th>\n",
       "      <th>Structure</th>\n",
       "      <th>Molecule Title</th>\n",
       "      <th>Library_ID</th>\n",
       "      <th>Description</th>\n",
       "      <th>Compound_id</th>\n",
       "      <th>Supplier_id</th>\n",
       "    </tr>\n",
       "  </thead>\n",
       "  <tbody>\n",
       "    <tr>\n",
       "      <th>0</th>\n",
       "      <td>CC(C)NCC(O)COC1=C2C=CC=CC2=CC=C1</td>\n",
       "      <td>CBK000879C</td>\n",
       "      <td>Lib-2041</td>\n",
       "      <td>Tocris_known_screen_mini</td>\n",
       "      <td>CBK000879C</td>\n",
       "      <td>(R)-(+)-Propranolol hydrochloride</td>\n",
       "    </tr>\n",
       "  </tbody>\n",
       "</table>\n",
       "</div>"
      ],
      "text/plain": [
       "                          Structure Molecule Title Library_ID  \\\n",
       "0  CC(C)NCC(O)COC1=C2C=CC=CC2=CC=C1     CBK000879C   Lib-2041   \n",
       "\n",
       "                Description Compound_id                        Supplier_id  \n",
       "0  Tocris_known_screen_mini  CBK000879C  (R)-(+)-Propranolol hydrochloride  "
      ]
     },
     "execution_count": 18,
     "metadata": {},
     "output_type": "execute_result"
    }
   ],
   "source": [
    "t_1.head(1)"
   ]
  },
  {
   "cell_type": "code",
   "execution_count": 20,
   "metadata": {},
   "outputs": [],
   "source": [
    "toc_1 = []\n",
    "for i in names:\n",
    "    if i in t_1['Supplier_id'].values:\n",
    "        toc_1.append(i)"
   ]
  },
  {
   "cell_type": "code",
   "execution_count": 22,
   "metadata": {},
   "outputs": [
    {
     "data": {
      "text/plain": [
       "['Simvastatin',\n",
       " 'Cisplatin',\n",
       " 'Etoposide',\n",
       " 'Camptothecin',\n",
       " 'Methotrexate',\n",
       " 'Colchicine',\n",
       " 'Nocodazole',\n",
       " 'Taxol',\n",
       " 'Anisomycin']"
      ]
     },
     "execution_count": 22,
     "metadata": {},
     "output_type": "execute_result"
    }
   ],
   "source": [
    "toc_1"
   ]
  },
  {
   "cell_type": "code",
   "execution_count": 30,
   "metadata": {},
   "outputs": [],
   "source": [
    "toc_l = []\n",
    "for i in toc_1:\n",
    "    toc_l.append(t_1.index[t_1['Supplier_id'] == i].tolist())"
   ]
  },
  {
   "cell_type": "code",
   "execution_count": 31,
   "metadata": {},
   "outputs": [],
   "source": [
    "id_toc= [ j for i in toc_l for j in i ]"
   ]
  },
  {
   "cell_type": "code",
   "execution_count": 32,
   "metadata": {},
   "outputs": [
    {
     "data": {
      "text/plain": [
       "[511, 1066, 263, 409, 435, 469, 266, 594, 408]"
      ]
     },
     "execution_count": 32,
     "metadata": {},
     "output_type": "execute_result"
    }
   ],
   "source": [
    "id_toc"
   ]
  },
  {
   "cell_type": "code",
   "execution_count": 33,
   "metadata": {
    "collapsed": true,
    "jupyter": {
     "outputs_hidden": true
    }
   },
   "outputs": [
    {
     "name": "stdout",
     "output_type": "stream",
     "text": [
      "Structure         [H][C@@]1(CC[C@@]2([H])[C@@H](C)C=CC3=C[C@H](C...\n",
      "Molecule Title                                            CBK200552\n",
      "Library_ID                                                 Lib-2041\n",
      "Description                                Tocris_known_screen_mini\n",
      "Compound_id                                               CBK200552\n",
      "Supplier_id                                             Simvastatin\n",
      "Name: 511, dtype: object\n",
      "Structure                           [Pt++]\n",
      "Molecule Title                  CBK290465G\n",
      "Library_ID                        Lib-2041\n",
      "Description       Tocris_known_screen_mini\n",
      "Compound_id                     CBK290465G\n",
      "Supplier_id                      Cisplatin\n",
      "Name: 1066, dtype: object\n",
      "Structure         COC1=CC(=CC(OC)=C1O)[C@H]1[C@@H]2C(COC2=O)C(OC...\n",
      "Molecule Title                                            CBK041182\n",
      "Library_ID                                                 Lib-2041\n",
      "Description                                Tocris_known_screen_mini\n",
      "Compound_id                                               CBK041182\n",
      "Supplier_id                                               Etoposide\n",
      "Name: 263, dtype: object\n",
      "Structure         CC[C@@]1(O)C(=O)OCC2=C1C=C1N(CC3=CC4=CC=CC=C4N...\n",
      "Molecule Title                                            CBK041770\n",
      "Library_ID                                                 Lib-2041\n",
      "Description                                Tocris_known_screen_mini\n",
      "Compound_id                                               CBK041770\n",
      "Supplier_id                                            Camptothecin\n",
      "Name: 409, dtype: object\n",
      "Structure         CN(CC1=CN=C2N=C(N)N=C(N)C2=N1)C1=CC=C(C=C1)C(=...\n",
      "Molecule Title                                            CBK041938\n",
      "Library_ID                                                 Lib-2041\n",
      "Description                                Tocris_known_screen_mini\n",
      "Compound_id                                               CBK041938\n",
      "Supplier_id                                            Methotrexate\n",
      "Name: 435, dtype: object\n",
      "Structure         COC1=C(OC)C(OC)=C2C(CCC(NC(C)=O)C3=CC(=O)C(OC)...\n",
      "Molecule Title                                            CBK221417\n",
      "Library_ID                                                 Lib-2041\n",
      "Description                                Tocris_known_screen_mini\n",
      "Compound_id                                               CBK221417\n",
      "Supplier_id                                              Colchicine\n",
      "Name: 469, dtype: object\n",
      "Structure         COC(=O)NC1=NC2=CC(=CC=C2N1)C(=O)C1=CC=CS1\n",
      "Molecule Title                                    CBK041184\n",
      "Library_ID                                         Lib-2041\n",
      "Description                        Tocris_known_screen_mini\n",
      "Compound_id                                       CBK041184\n",
      "Supplier_id                                      Nocodazole\n",
      "Name: 266, dtype: object\n",
      "Structure         [H][C@]12[C@H](OC(=O)C3=CC=CC=C3)[C@]3(O)C[C@H...\n",
      "Molecule Title                                            CBK011621\n",
      "Library_ID                                                 Lib-2041\n",
      "Description                                Tocris_known_screen_mini\n",
      "Compound_id                                               CBK011621\n",
      "Supplier_id                                                   Taxol\n",
      "Name: 594, dtype: object\n",
      "Structure         COC1=CC=C(C[C@H]2NC[C@H](O)[C@H]2OC(C)=O)C=C1\n",
      "Molecule Title                                        CBK041766\n",
      "Library_ID                                             Lib-2041\n",
      "Description                            Tocris_known_screen_mini\n",
      "Compound_id                                           CBK041766\n",
      "Supplier_id                                          Anisomycin\n",
      "Name: 408, dtype: object\n"
     ]
    }
   ],
   "source": [
    "for i in id_toc:\n",
    "    print(t_1.iloc[i])"
   ]
  },
  {
   "cell_type": "code",
   "execution_count": 34,
   "metadata": {},
   "outputs": [],
   "source": [
    "# FOR SELLECK\n",
    "\n",
    "s_1 = pd.read_excel('Others/CBCS Librarys/Corrected annot Selleck TC4.xlsx', sheet_name=1)\n",
    "s_3 = pd.read_excel('Others/CBCS Librarys/Corrected annot Selleck TC4.xlsx', sheet_name=3)\n"
   ]
  },
  {
   "cell_type": "code",
   "execution_count": 35,
   "metadata": {},
   "outputs": [
    {
     "data": {
      "text/html": [
       "<div>\n",
       "<style scoped>\n",
       "    .dataframe tbody tr th:only-of-type {\n",
       "        vertical-align: middle;\n",
       "    }\n",
       "\n",
       "    .dataframe tbody tr th {\n",
       "        vertical-align: top;\n",
       "    }\n",
       "\n",
       "    .dataframe thead th {\n",
       "        text-align: right;\n",
       "    }\n",
       "</style>\n",
       "<table border=\"1\" class=\"dataframe\">\n",
       "  <thead>\n",
       "    <tr style=\"text-align: right;\">\n",
       "      <th></th>\n",
       "      <th>Structure</th>\n",
       "      <th>Compound ID</th>\n",
       "      <th>Batch nr</th>\n",
       "      <th>Name</th>\n",
       "      <th>Target</th>\n",
       "      <th>Description</th>\n",
       "    </tr>\n",
       "  </thead>\n",
       "  <tbody>\n",
       "    <tr>\n",
       "      <th>0</th>\n",
       "      <td>CC1(C)CCC(=C(CN2CCN(CC2)C2=CC=C(C=C2)C(=O)NS(=...</td>\n",
       "      <td>CBK277924</td>\n",
       "      <td>BJ1838001</td>\n",
       "      <td>ABT-263 (Navitoclax)</td>\n",
       "      <td>Bcl-2</td>\n",
       "      <td>ABT-263 (Navitoclax) is a potent inhibitor of ...</td>\n",
       "    </tr>\n",
       "  </tbody>\n",
       "</table>\n",
       "</div>"
      ],
      "text/plain": [
       "                                           Structure Compound ID   Batch nr  \\\n",
       "0  CC1(C)CCC(=C(CN2CCN(CC2)C2=CC=C(C=C2)C(=O)NS(=...   CBK277924  BJ1838001   \n",
       "\n",
       "                   Name Target  \\\n",
       "0  ABT-263 (Navitoclax)  Bcl-2   \n",
       "\n",
       "                                         Description  \n",
       "0  ABT-263 (Navitoclax) is a potent inhibitor of ...  "
      ]
     },
     "execution_count": 35,
     "metadata": {},
     "output_type": "execute_result"
    }
   ],
   "source": [
    "s_1.head(1)\n"
   ]
  },
  {
   "cell_type": "code",
   "execution_count": 36,
   "metadata": {},
   "outputs": [
    {
     "data": {
      "text/html": [
       "<div>\n",
       "<style scoped>\n",
       "    .dataframe tbody tr th:only-of-type {\n",
       "        vertical-align: middle;\n",
       "    }\n",
       "\n",
       "    .dataframe tbody tr th {\n",
       "        vertical-align: top;\n",
       "    }\n",
       "\n",
       "    .dataframe thead th {\n",
       "        text-align: right;\n",
       "    }\n",
       "</style>\n",
       "<table border=\"1\" class=\"dataframe\">\n",
       "  <thead>\n",
       "    <tr style=\"text-align: right;\">\n",
       "      <th></th>\n",
       "      <th>Structure</th>\n",
       "      <th>Molecule Title</th>\n",
       "      <th>BATCHID</th>\n",
       "      <th>Compound ID</th>\n",
       "      <th>Batch nr</th>\n",
       "      <th>Name</th>\n",
       "      <th>Target</th>\n",
       "      <th>Description</th>\n",
       "      <th>CAS Number</th>\n",
       "    </tr>\n",
       "  </thead>\n",
       "  <tbody>\n",
       "    <tr>\n",
       "      <th>0</th>\n",
       "      <td>[H][C@@]12CC3=C(C=CC(=O)N3)[C@@](N)(CC(C)=C1)C...</td>\n",
       "      <td>BJ1838371</td>\n",
       "      <td>BJ1838371</td>\n",
       "      <td>CBK290664</td>\n",
       "      <td>BJ1838371</td>\n",
       "      <td>(-)-Huperzine A</td>\n",
       "      <td>GluR</td>\n",
       "      <td>(-)-Huperzine A is a potent, highly specific a...</td>\n",
       "      <td>102518-79-6</td>\n",
       "    </tr>\n",
       "  </tbody>\n",
       "</table>\n",
       "</div>"
      ],
      "text/plain": [
       "                                           Structure Molecule Title  \\\n",
       "0  [H][C@@]12CC3=C(C=CC(=O)N3)[C@@](N)(CC(C)=C1)C...      BJ1838371   \n",
       "\n",
       "     BATCHID Compound ID   Batch nr             Name Target  \\\n",
       "0  BJ1838371   CBK290664  BJ1838371  (-)-Huperzine A   GluR   \n",
       "\n",
       "                                         Description   CAS Number  \n",
       "0  (-)-Huperzine A is a potent, highly specific a...  102518-79-6  "
      ]
     },
     "execution_count": 36,
     "metadata": {},
     "output_type": "execute_result"
    }
   ],
   "source": [
    "s_3.head(1)"
   ]
  },
  {
   "cell_type": "code",
   "execution_count": 37,
   "metadata": {},
   "outputs": [],
   "source": [
    "sell_1 = []\n",
    "sell_3 = []\n",
    "for i in names:\n",
    "    if i in s_1['Name'].values:\n",
    "        sell_1.append(i)\n",
    "    \n",
    "    if i in s_3['Name'].values:\n",
    "        sell_3.append(i)\n",
    "        \n",
    "    "
   ]
  },
  {
   "cell_type": "code",
   "execution_count": 38,
   "metadata": {},
   "outputs": [
    {
     "data": {
      "text/plain": [
       "(['Vincristine'], ['Vincristine'])"
      ]
     },
     "execution_count": 38,
     "metadata": {},
     "output_type": "execute_result"
    }
   ],
   "source": [
    "sell_1, sell_3"
   ]
  },
  {
   "cell_type": "code",
   "execution_count": 39,
   "metadata": {},
   "outputs": [],
   "source": [
    "sell_l = []\n",
    "for i in sell_1:\n",
    "    sell_l.append(s_1.index[s_1['Name'] == i].tolist())"
   ]
  },
  {
   "cell_type": "code",
   "execution_count": 42,
   "metadata": {},
   "outputs": [],
   "source": [
    "id_sell= [ j for i in sell_l for j in i ]"
   ]
  },
  {
   "cell_type": "code",
   "execution_count": 43,
   "metadata": {},
   "outputs": [
    {
     "name": "stdout",
     "output_type": "stream",
     "text": [
      "Structure      OS(O)(=O)=O.[H][C@@]12N3CC[C@@]11C4=C(C=C(OC)C...\n",
      "Compound ID                                           CBK277916G\n",
      "Batch nr                                               BJ1838080\n",
      "Name                                                 Vincristine\n",
      "Target                                                 Autophagy\n",
      "Description    Vincristine is an inhibitor of polymerization ...\n",
      "Name: 98, dtype: object\n"
     ]
    }
   ],
   "source": [
    "for i in id_sell:\n",
    "    print(s_1.iloc[i])"
   ]
  },
  {
   "cell_type": "code",
   "execution_count": 44,
   "metadata": {},
   "outputs": [],
   "source": [
    "# For Enzo\n",
    "\n",
    "e_1 = pd.read_excel('Others/CBCS Librarys/Enzo_subsets.xlsx', sheet_name=1)\n",
    "e_2 = pd.read_excel('Others/CBCS Librarys/Enzo_subsets.xlsx', sheet_name=2)\n",
    "e_3 = pd.read_excel('Others/CBCS Librarys/Enzo_subsets.xlsx', sheet_name=3)\n",
    "e_4 = pd.read_excel('Others/CBCS Librarys/Enzo_subsets.xlsx', sheet_name=4)\n",
    "e_5 = pd.read_excel('Others/CBCS Librarys/Enzo_subsets.xlsx', sheet_name=5)\n",
    "e_6 = pd.read_excel('Others/CBCS Librarys/Enzo_subsets.xlsx', sheet_name=6)\n",
    "e_7 = pd.read_excel('Others/CBCS Librarys/Enzo_subsets.xlsx', sheet_name=7)\n",
    "e_8 = pd.read_excel('Others/CBCS Librarys/Enzo_subsets.xlsx', sheet_name=8)\n",
    "\n"
   ]
  },
  {
   "cell_type": "code",
   "execution_count": 45,
   "metadata": {},
   "outputs": [
    {
     "name": "stdout",
     "output_type": "stream",
     "text": [
      "Etoposide\n",
      "Nocodazole\n",
      "Anisomycin\n"
     ]
    }
   ],
   "source": [
    "for i in names:\n",
    "    if i in e_1['Name'].values or i in e_2['Name'].values or i in e_3['Name'].values or i in e_4['Name'].values or i in e_5['Name'].values or i in e_6['Name'].values or i in e_7['Name'].values or i in e_2['Name'].values or i in e_8['Name'].values:\n",
    "    \n",
    "        print(i)"
   ]
  },
  {
   "cell_type": "code",
   "execution_count": null,
   "metadata": {},
   "outputs": [],
   "source": []
  }
 ],
 "metadata": {
  "kernelspec": {
   "display_name": "Python 3",
   "language": "python",
   "name": "python3"
  },
  "language_info": {
   "codemirror_mode": {
    "name": "ipython",
    "version": 3
   },
   "file_extension": ".py",
   "mimetype": "text/x-python",
   "name": "python",
   "nbconvert_exporter": "python",
   "pygments_lexer": "ipython3",
   "version": "3.6.9"
  }
 },
 "nbformat": 4,
 "nbformat_minor": 4
}
